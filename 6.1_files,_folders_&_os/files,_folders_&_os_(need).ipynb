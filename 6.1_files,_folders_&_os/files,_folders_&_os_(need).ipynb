{
 "cells": [
  {
   "attachments": {},
   "cell_type": "markdown",
   "id": "123456",
   "metadata": {},
   "source": [
    "<div style=\"text-align:left;font-size:2em\"><span style=\"font-weight:bolder;font-size:1.25em\">SP2273 | Learning Portfolio</span><br><br><span style=\"font-weight:bold;color:darkred\">Files, Folders & OS (Need)</span></div>"
   ]
  },
  {
   "cell_type": "code",
   "execution_count": 43,
   "id": "e9eec00e-97a7-41d7-8b66-65caf680f57e",
   "metadata": {},
   "outputs": [],
   "source": [
    "import glob # allows you to search for things "
   ]
  },
  {
   "cell_type": "code",
   "execution_count": 45,
   "id": "b9d8e4c6-987d-4065-a2fe-99e8e09b78db",
   "metadata": {},
   "outputs": [],
   "source": [
    "import os"
   ]
  },
  {
   "cell_type": "code",
   "execution_count": 47,
   "id": "6005c4c5-dac3-4d6f-bf0e-10648f338eb8",
   "metadata": {},
   "outputs": [],
   "source": [
    "import shutil"
   ]
  },
  {
   "cell_type": "code",
   "execution_count": 3,
   "id": "ff295bbf-8d9a-4268-bd93-894a92d00c99",
   "metadata": {},
   "outputs": [
    {
     "data": {
      "text/plain": [
       "['files,_folders_&_os_(need).ipynb']"
      ]
     },
     "execution_count": 3,
     "metadata": {},
     "output_type": "execute_result"
    }
   ],
   "source": [
    "glob.glob('*') # gives you a list of everything that's in the folder"
   ]
  },
  {
   "cell_type": "code",
   "execution_count": 15,
   "id": "46229a5a-fd9f-48a4-aa71-fb208c74caea",
   "metadata": {},
   "outputs": [
    {
     "data": {
      "text/plain": [
       "['..\\\\0.1_hello,_github!',\n",
       " '..\\\\0.2_hello,_jupyter!',\n",
       " '..\\\\0.3_Virtual_Environments_(Nice!)',\n",
       " '..\\\\1.1_using_jupyter',\n",
       " '..\\\\1.2_using_jupyter_,_exercises',\n",
       " '..\\\\2.1_fundamentals',\n",
       " '..\\\\2.2_fundamentals__exercises',\n",
       " '..\\\\3.1_storing_data',\n",
       " '..\\\\3.2_storing_data__exercises',\n",
       " '..\\\\4.1_loops',\n",
       " '..\\\\4.2_loops__exercises',\n",
       " '..\\\\5.1_functions',\n",
       " '..\\\\5.2_functions__exercises',\n",
       " '..\\\\6.1_files,_folders_&_os',\n",
       " '..\\\\6.2_files,_folders_&_os__exercises',\n",
       " '..\\\\7.1_plotting',\n",
       " '..\\\\7.2_plotting__exercises',\n",
       " '..\\\\anaconda_projects',\n",
       " '..\\\\hahaha.txt',\n",
       " '..\\\\README.md']"
      ]
     },
     "execution_count": 15,
     "metadata": {},
     "output_type": "execute_result"
    }
   ],
   "source": [
    "glob.glob('../*') # Folder above"
   ]
  },
  {
   "cell_type": "code",
   "execution_count": 17,
   "id": "a0455bd1-885e-4610-beb7-7f0b0a3d0c89",
   "metadata": {},
   "outputs": [
    {
     "data": {
      "text/plain": [
       "['..\\\\5.1_functions\\\\functions_(good).ipynb',\n",
       " '..\\\\5.1_functions\\\\functions_(need).ipynb',\n",
       " '..\\\\5.1_functions\\\\functions_(nice).ipynb']"
      ]
     },
     "execution_count": 17,
     "metadata": {},
     "output_type": "execute_result"
    }
   ],
   "source": [
    "glob.glob('../5.1*/*') # Go up, look for sth that starts with 5.1 and show me everything in that folder\n",
    "# Relative path (to where you are)"
   ]
  },
  {
   "cell_type": "code",
   "execution_count": 9,
   "id": "25d95f75-c4e7-4872-ad63-9c6e3023d59d",
   "metadata": {},
   "outputs": [],
   "source": [
    "# C:\\Users\\keirh\\Documents\\learning-portfolio-2025-january-keirlhjk\\5.1_functions\n",
    "# This is an absolute path"
   ]
  },
  {
   "cell_type": "code",
   "execution_count": 11,
   "id": "6907ff0d-9f19-4831-855c-48a52a2c873e",
   "metadata": {},
   "outputs": [],
   "source": [
    "# Use relative paths whenever possible, they are more flexible. \n",
    "# Should NOT use absolute paths. Absolute paths only work on a specific computer."
   ]
  },
  {
   "cell_type": "code",
   "execution_count": 23,
   "id": "d6206904-0079-4f21-89d9-34e689414ec1",
   "metadata": {},
   "outputs": [
    {
     "name": "stdout",
     "output_type": "stream",
     "text": [
      "..\\5.1_functions\\functions_(good).ipynb\n",
      "..\\5.1_functions\\functions_(need).ipynb\n",
      "..\\5.1_functions\\functions_(nice).ipynb\n"
     ]
    }
   ],
   "source": [
    "all_files = glob.glob('../5.1*/*') # use r'' or \\\\5.1\\\\ to avoid escape sequence\n",
    "\n",
    "for file in all_files:\n",
    "    print(file)"
   ]
  },
  {
   "cell_type": "code",
   "execution_count": 27,
   "id": "1d7c78bf-2a43-4f49-9a2b-e2e97fd8c901",
   "metadata": {},
   "outputs": [
    {
     "data": {
      "text/plain": [
       "['..\\\\0.1_hello,_github!',\n",
       " '..\\\\0.2_hello,_jupyter!',\n",
       " '..\\\\0.3_Virtual_Environments_(Nice!)',\n",
       " '..\\\\1.1_using_jupyter',\n",
       " '..\\\\1.2_using_jupyter_,_exercises',\n",
       " '..\\\\2.1_fundamentals',\n",
       " '..\\\\2.2_fundamentals__exercises',\n",
       " '..\\\\3.1_storing_data',\n",
       " '..\\\\3.2_storing_data__exercises',\n",
       " '..\\\\4.1_loops',\n",
       " '..\\\\4.2_loops__exercises',\n",
       " '..\\\\5.1_functions',\n",
       " '..\\\\5.2_functions__exercises',\n",
       " '..\\\\6.1_files,_folders_&_os',\n",
       " '..\\\\6.2_files,_folders_&_os__exercises',\n",
       " '..\\\\7.1_plotting',\n",
       " '..\\\\7.2_plotting__exercises',\n",
       " '..\\\\anaconda_projects',\n",
       " '..\\\\hahaha.txt',\n",
       " '..\\\\README.md',\n",
       " '..\\\\0.1_hello,_github!\\\\hello,_github!_(need).ipynb',\n",
       " '..\\\\0.2_hello,_jupyter!\\\\hello,_jupyter!_(need).ipynb',\n",
       " '..\\\\0.3_Virtual_Environments_(Nice!)\\\\virtual_environments_(nice!).ipynb',\n",
       " '..\\\\1.1_using_jupyter\\\\using_jupyter_(good).ipynb',\n",
       " '..\\\\1.1_using_jupyter\\\\using_jupyter_(need).ipynb',\n",
       " '..\\\\1.2_using_jupyter_,_exercises\\\\using_jupyter_(good),_exercises.ipynb',\n",
       " '..\\\\1.2_using_jupyter_,_exercises\\\\using_jupyter_(need),_exercises.ipynb',\n",
       " '..\\\\2.1_fundamentals\\\\fundamentals_(good).ipynb',\n",
       " '..\\\\2.1_fundamentals\\\\fundamentals_(need).ipynb',\n",
       " '..\\\\2.1_fundamentals\\\\fundamentals_(nice).ipynb',\n",
       " '..\\\\2.2_fundamentals__exercises\\\\fundamentals_(good)_exercises.ipynb',\n",
       " '..\\\\2.2_fundamentals__exercises\\\\fundamentals_(need)_exercises.ipynb',\n",
       " '..\\\\3.1_storing_data\\\\storing_data_(good).ipynb',\n",
       " '..\\\\3.1_storing_data\\\\storing_data_(need).ipynb',\n",
       " '..\\\\3.2_storing_data__exercises\\\\storing_data_(good)_exercises.ipynb',\n",
       " '..\\\\3.2_storing_data__exercises\\\\storing_data_(need)_exercises.ipynb',\n",
       " '..\\\\4.1_loops\\\\loops_(good).ipynb',\n",
       " '..\\\\4.1_loops\\\\loops_(need).ipynb',\n",
       " '..\\\\4.1_loops\\\\loops_(nice).ipynb',\n",
       " '..\\\\4.2_loops__exercises\\\\loops_(good)_exercises.ipynb',\n",
       " '..\\\\4.2_loops__exercises\\\\loops_(need)_exercises.ipynb',\n",
       " '..\\\\5.1_functions\\\\functions_(good).ipynb',\n",
       " '..\\\\5.1_functions\\\\functions_(need).ipynb',\n",
       " '..\\\\5.1_functions\\\\functions_(nice).ipynb',\n",
       " '..\\\\5.2_functions__exercises\\\\functions_(good)_exercises.ipynb',\n",
       " '..\\\\5.2_functions__exercises\\\\functions_(need)_exercises.ipynb',\n",
       " '..\\\\6.1_files,_folders_&_os\\\\files,_folders_&_os_(need).ipynb',\n",
       " '..\\\\6.2_files,_folders_&_os__exercises\\\\files,_folders_&_os_(need)_exercises.ipynb',\n",
       " '..\\\\7.1_plotting\\\\plotting_(good).ipynb',\n",
       " '..\\\\7.1_plotting\\\\plotting_(need).ipynb',\n",
       " '..\\\\7.1_plotting\\\\xvsy.jpg',\n",
       " '..\\\\7.2_plotting__exercises\\\\Plotting (Good) Exercise 1.jpg',\n",
       " '..\\\\7.2_plotting__exercises\\\\plotting_(good)_exercises.ipynb',\n",
       " '..\\\\7.2_plotting__exercises\\\\plotting_(need)_exercises.ipynb',\n",
       " '..\\\\anaconda_projects\\\\db',\n",
       " '..\\\\anaconda_projects\\\\db\\\\project_filebrowser.db']"
      ]
     },
     "execution_count": 27,
     "metadata": {},
     "output_type": "execute_result"
    }
   ],
   "source": [
    "glob.glob('../**/*', recursive=True)"
   ]
  },
  {
   "cell_type": "code",
   "execution_count": 33,
   "id": "f4709699-851d-4161-a436-5ae03e6cd0bc",
   "metadata": {},
   "outputs": [
    {
     "data": {
      "text/plain": [
       "['..\\\\7.1_plotting\\\\xvsy.jpg',\n",
       " '..\\\\7.2_plotting__exercises\\\\Plotting (Good) Exercise 1.jpg']"
      ]
     },
     "execution_count": 33,
     "metadata": {},
     "output_type": "execute_result"
    }
   ],
   "source": [
    "glob.glob('../**/*.jpg', recursive=True) # Gives only jpg files (Search for files given a criteria)"
   ]
  },
  {
   "cell_type": "code",
   "execution_count": 49,
   "id": "28c89c4f-4db4-474b-8326-842356a2f220",
   "metadata": {},
   "outputs": [
    {
     "data": {
      "text/plain": [
       "'.\\\\xvsy.jpg'"
      ]
     },
     "execution_count": 49,
     "metadata": {},
     "output_type": "execute_result"
    }
   ],
   "source": [
    "shutil.copy('..\\\\7.1_plotting\\\\xvsy.jpg', '.') #copy to this folder"
   ]
  },
  {
   "cell_type": "code",
   "execution_count": 61,
   "id": "a827d4bd-c9e1-48e2-bae7-ea139b2a6fb8",
   "metadata": {},
   "outputs": [
    {
     "name": "stdout",
     "output_type": "stream",
     "text": [
      "..\\6.1_files,_folders_&_os\\xvsy.jpg already here\n"
     ]
    }
   ],
   "source": [
    "jpg_files = glob.glob('../**/*.jpg', recursive = True)\n",
    "\n",
    "for file in jpg_files:\n",
    "    try:\n",
    "        shutil.copy(file, '.')\n",
    "    except:\n",
    "        print(f'{file} already here')"
   ]
  },
  {
   "cell_type": "code",
   "execution_count": 65,
   "id": "4da90ffa-b662-4c79-a080-da7fbbe4c6ff",
   "metadata": {},
   "outputs": [
    {
     "data": {
      "text/plain": [
       "['..', '7.2_plotting__exercises', 'Plotting (Good) Exercise 1.jpg']"
      ]
     },
     "execution_count": 65,
     "metadata": {},
     "output_type": "execute_result"
    }
   ],
   "source": [
    "file.split(os.path.sep)"
   ]
  },
  {
   "cell_type": "code",
   "execution_count": 73,
   "id": "81ca8bbc-97b3-48e4-98f0-c2eb9e9fb764",
   "metadata": {},
   "outputs": [
    {
     "name": "stdout",
     "output_type": "stream",
     "text": [
      "Did not copy Plotting (Good) Exercise 1.jpg\n",
      "Did not copy xvsy.jpg\n",
      "Did not copy Plotting (Good) Exercise 1.jpg\n"
     ]
    }
   ],
   "source": [
    "jpg_files = glob.glob('../**/*.jpg', recursive = True)\n",
    "\n",
    "for file in jpg_files:\n",
    "    filename = file.split(os.path.sep)[-1]\n",
    "\n",
    "    if not os.path.exists(filename):\n",
    "        shutil.copy(file, '.')\n",
    "    else:\n",
    "        print(f'Did not copy {filename}')"
   ]
  },
  {
   "cell_type": "code",
   "execution_count": 78,
   "id": "dd968a2a-709a-4795-9d8e-8b2ed5e8e9e2",
   "metadata": {},
   "outputs": [
    {
     "name": "stdout",
     "output_type": "stream",
     "text": [
      "Creating people\\John\n",
      "Creating people\\Paul\n",
      "Creating people\\Ringo\n"
     ]
    }
   ],
   "source": [
    "# Creating Folders\n",
    "\n",
    "os.mkdir('people')\n",
    "\n",
    "for person in ['John', 'Paul', 'Ringo']: # Creates 3 subfolders\n",
    "    path = os.path.join('people', person) # Join paths\n",
    "    print(f'Creating {path}')\n",
    "    os.mkdir(path)"
   ]
  },
  {
   "cell_type": "code",
   "execution_count": null,
   "id": "a78454cc-b0d5-4446-9b6d-76ccd8b980be",
   "metadata": {},
   "outputs": [],
   "source": [
    "# 2 Reading and Writing file"
   ]
  },
  {
   "cell_type": "code",
   "execution_count": 82,
   "id": "c55d67ed-352c-44b7-ac5e-3903b4e37596",
   "metadata": {},
   "outputs": [],
   "source": [
    "with open('hhhhhhh.txt', 'w') as file:\n",
    "    file.write('ufhuefndwk')\n"
   ]
  },
  {
   "cell_type": "code",
   "execution_count": 84,
   "id": "1837e40c-7416-44bf-81e2-4f0633d8ce44",
   "metadata": {},
   "outputs": [],
   "source": [
    "## use np.loadtxt if you have scientific data"
   ]
  },
  {
   "attachments": {},
   "cell_type": "markdown",
   "id": "73ed5173",
   "metadata": {},
   "source": [
    "# What to expect in this chapter"
   ]
  },
  {
   "attachments": {},
   "cell_type": "markdown",
   "id": "0d83c344",
   "metadata": {},
   "source": [
    "# 1 Important concepts"
   ]
  },
  {
   "attachments": {},
   "cell_type": "markdown",
   "id": "bfa09a82",
   "metadata": {},
   "source": [
    "## 1.1 Path"
   ]
  },
  {
   "attachments": {},
   "cell_type": "markdown",
   "id": "3bea2008",
   "metadata": {},
   "source": [
    "## 1.2 More about relative paths"
   ]
  },
  {
   "attachments": {},
   "cell_type": "markdown",
   "id": "57ce48c2",
   "metadata": {},
   "source": [
    "### macOS or Linux"
   ]
  },
  {
   "cell_type": "code",
   "execution_count": null,
   "id": "f7d48d60",
   "metadata": {},
   "outputs": [],
   "source": [
    "\n",
    "# Your code here\n"
   ]
  },
  {
   "attachments": {},
   "cell_type": "markdown",
   "id": "0bc1c718",
   "metadata": {},
   "source": [
    "## 1.3 Path separator"
   ]
  },
  {
   "attachments": {},
   "cell_type": "markdown",
   "id": "b84d749f",
   "metadata": {},
   "source": [
    "## 1.4 Text files vs. Binary files"
   ]
  },
  {
   "attachments": {},
   "cell_type": "markdown",
   "id": "fc38e8ed",
   "metadata": {},
   "source": [
    "## 1.5 Extensions"
   ]
  },
  {
   "attachments": {},
   "cell_type": "markdown",
   "id": "568543c6",
   "metadata": {},
   "source": [
    "# 2 Opening and closing files"
   ]
  },
  {
   "attachments": {},
   "cell_type": "markdown",
   "id": "873a7f19",
   "metadata": {},
   "source": [
    "## 2.1 Reading data"
   ]
  },
  {
   "attachments": {},
   "cell_type": "markdown",
   "id": "c38cf99b",
   "metadata": {},
   "source": [
    "## 2.2 Writing data"
   ]
  },
  {
   "attachments": {},
   "cell_type": "markdown",
   "id": "dbde4acb",
   "metadata": {},
   "source": [
    "### Writing to a file in one go"
   ]
  },
  {
   "cell_type": "code",
   "execution_count": null,
   "id": "355b33c8",
   "metadata": {},
   "outputs": [],
   "source": [
    "\n",
    "# Your code here\n"
   ]
  },
  {
   "attachments": {},
   "cell_type": "markdown",
   "id": "91740253",
   "metadata": {},
   "source": [
    "### Writing to a file, line by line"
   ]
  },
  {
   "cell_type": "code",
   "execution_count": null,
   "id": "74d94655",
   "metadata": {},
   "outputs": [],
   "source": [
    "\n",
    "# Your code here\n"
   ]
  },
  {
   "attachments": {},
   "cell_type": "markdown",
   "id": "4a4893e9",
   "metadata": {},
   "source": [
    "# 3 Some useful packages"
   ]
  },
  {
   "attachments": {},
   "cell_type": "markdown",
   "id": "af89d863",
   "metadata": {},
   "source": [
    "# 4 OS safe paths"
   ]
  },
  {
   "attachments": {},
   "cell_type": "markdown",
   "id": "5f91df87",
   "metadata": {},
   "source": [
    "# 5 Folders"
   ]
  },
  {
   "attachments": {},
   "cell_type": "markdown",
   "id": "6f607d9e",
   "metadata": {},
   "source": [
    "## 5.1 Creating folders"
   ]
  },
  {
   "attachments": {},
   "cell_type": "markdown",
   "id": "846919b6",
   "metadata": {},
   "source": [
    "## 5.2 Checking for existence"
   ]
  },
  {
   "attachments": {},
   "cell_type": "markdown",
   "id": "d51801ea",
   "metadata": {},
   "source": [
    "### Using try-except"
   ]
  },
  {
   "cell_type": "code",
   "execution_count": null,
   "id": "388a0035",
   "metadata": {},
   "outputs": [],
   "source": [
    "\n",
    "# Your code here\n"
   ]
  },
  {
   "attachments": {},
   "cell_type": "markdown",
   "id": "cc185cac",
   "metadata": {},
   "source": [
    "### Using os.path.exists()"
   ]
  },
  {
   "cell_type": "code",
   "execution_count": null,
   "id": "098f5ff9",
   "metadata": {},
   "outputs": [],
   "source": [
    "\n",
    "# Your code here\n"
   ]
  },
  {
   "attachments": {},
   "cell_type": "markdown",
   "id": "a05eca25",
   "metadata": {},
   "source": [
    "## 5.3 Copying files"
   ]
  },
  {
   "attachments": {},
   "cell_type": "markdown",
   "id": "38d362fa",
   "metadata": {},
   "source": [
    "# 6 Listing and looking for files"
   ]
  },
  {
   "attachments": {},
   "cell_type": "markdown",
   "id": "26c89e77",
   "metadata": {},
   "source": [
    "# 7 Extracting file info"
   ]
  },
  {
   "attachments": {},
   "cell_type": "markdown",
   "id": "608e2077",
   "metadata": {},
   "source": [
    "# 8 Deleting stuff"
   ]
  }
 ],
 "metadata": {
  "kernelspec": {
   "display_name": "Python [conda env:base] *",
   "language": "python",
   "name": "conda-base-py"
  },
  "language_info": {
   "codemirror_mode": {
    "name": "ipython",
    "version": 3
   },
   "file_extension": ".py",
   "mimetype": "text/x-python",
   "name": "python",
   "nbconvert_exporter": "python",
   "pygments_lexer": "ipython3",
   "version": "3.12.3"
  },
  "toc": {
   "base_numbering": 1,
   "nav_menu": {},
   "number_sections": true,
   "sideBar": true,
   "skip_h1_title": false,
   "title_cell": "Table of Contents",
   "title_sidebar": "Contents",
   "toc_cell": false,
   "toc_position": {},
   "toc_section_display": true,
   "toc_window_display": false
  },
  "vscode": {
   "interpreter": {
    "hash": "31f2aee4e71d21fbe5cf8b01ff0e069b9275f58929596ceb00d14d90e3e16cd6"
   }
  }
 },
 "nbformat": 4,
 "nbformat_minor": 5
}
