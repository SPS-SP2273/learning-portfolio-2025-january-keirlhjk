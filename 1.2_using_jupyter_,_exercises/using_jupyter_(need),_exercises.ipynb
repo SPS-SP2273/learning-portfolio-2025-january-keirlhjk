{
 "cells": [
  {
   "attachments": {},
   "cell_type": "markdown",
   "id": "123456",
   "metadata": {},
   "source": [
    "<div style=\"text-align:left;font-size:2em\"><span style=\"font-weight:bolder;font-size:1.25em\">SP2273 | Learning Portfolio</span><br><br><span style=\"font-weight:bold;color:darkred\">Using Jupyter (Need), Exercises</span></div>"
   ]
  },
  {
   "attachments": {},
   "cell_type": "markdown",
   "id": "de3e3a7c",
   "metadata": {},
   "source": [
    "## 1 Quadratic Equations"
   ]
  },
  {
   "attachments": {},
   "cell_type": "markdown",
   "id": "689d6730",
   "metadata": {},
   "source": [
    "### Introduction"
   ]
  },
  {
   "cell_type": "markdown",
   "id": "9d91b194-f7fd-410a-8d8a-1f7246846ebf",
   "metadata": {},
   "source": [
    "![](https://upload.wikimedia.org/wikipedia/commons/thumb/f/f8/Polynomialdeg2.svg/300px-Polynomialdeg2.svg.png)"
   ]
  },
  {
   "cell_type": "markdown",
   "id": "a5f42196-16bf-41c2-9ed5-f3a3d92d60e2",
   "metadata": {},
   "source": [
    "*Image from the [Wikipedia page on Quadratic equations](https://en.wikipedia.org/wiki/Quadratic_equation)*"
   ]
  },
  {
   "cell_type": "markdown",
   "id": "c3170c08-7617-472e-9de4-f10c2331effa",
   "metadata": {},
   "source": [
    "The general form of a quadratic equation is: $$ax^2+bx+c=0$$"
   ]
  },
  {
   "attachments": {},
   "cell_type": "markdown",
   "id": "0d7c6526",
   "metadata": {},
   "source": [
    "### Solutions"
   ]
  },
  {
   "cell_type": "markdown",
   "id": "00f4ca2b-2ecc-4e4f-84f2-2fe62c1f3f0e",
   "metadata": {},
   "source": [
    "Provided $a \\ne 0$, we can use an elementary algebraic method called [completing the square](https://en.wikipedia.org/wiki/Completing_the_square) to show that a quadratic equation has the following solution: $$x=\\dfrac{-b\\pm\\sqrt{b^2-4ac}}{2a}$$"
   ]
  },
  {
   "attachments": {},
   "cell_type": "markdown",
   "id": "562edfd5",
   "metadata": {},
   "source": [
    "### Discriminant"
   ]
  },
  {
   "cell_type": "markdown",
   "id": "cb8ab4a0-3667-409c-9104-0c810ab371ff",
   "metadata": {},
   "source": [
    "The quantity $\\Delta=b^2-4ac$ is called the **discriminant** of the equation and decides the nature of its solutions. The table below shows the various possibilities."
   ]
  },
  {
   "cell_type": "markdown",
   "id": "48ae6171-c2e5-423e-aa6f-be047f1bb2f1",
   "metadata": {},
   "source": [
    "|      Discriminant           |   Roots                                     |\n",
    "|----------------------------:|:--------------------------------------------|\n",
    "| $(\\Delta = b^2 - 4ac = 0)$  | A single solution of $-b/(2a)$              |\n",
    "| $(\\Delta = b^2 - 4ac > 0)$  | Two distinct solutions                      |\n",
    "| $(\\Delta = b^2 - 4ac < 0)$  | No real solutions; both are complex         |"
   ]
  },
  {
   "cell_type": "markdown",
   "id": "942edc8b-bb0e-48d0-870a-cd42e7918fb7",
   "metadata": {},
   "source": [
    "## Exercise 2"
   ]
  },
  {
   "cell_type": "markdown",
   "id": "4b248ebf-3958-4503-897c-44c0a0595a62",
   "metadata": {},
   "source": [
    "1. A Git repository is a folder that tracks and manages the changes made within that folder\n",
    "2. Git keeps track of changes in the files in our repository\n",
    "3. Commit records the changes made\n",
    "4. Push sends the commits made on your local computer to a cloud like Github\n",
    "5. Pull retrieves any changes made on a cloud like Github to your local computer\n",
    "6. GitHub is web-based where one can store their Git repository online and code alongside others while GitHub Desktop is installed on your local computer"
   ]
  },
  {
   "cell_type": "markdown",
   "id": "c5262421-e6ff-43eb-be19-d0159676a19a",
   "metadata": {},
   "source": [
    "## Exercise 3"
   ]
  },
  {
   "cell_type": "markdown",
   "id": "bcf9cb0c-0d04-4cc8-abb3-c96523b0bb32",
   "metadata": {},
   "source": [
    "$$\\mu=\\dfrac{1}{n}\\sum_{i=1}^{n}x_i$$"
   ]
  },
  {
   "cell_type": "markdown",
   "id": "00865077-10c7-447b-ac48-0882a851692f",
   "metadata": {},
   "source": [
    "$$\\sigma=\\sqrt{\\dfrac{1}{n}\\sum_{i=1}^{n}(x_i-\\mu)^2}$$"
   ]
  },
  {
   "cell_type": "markdown",
   "id": "18c61926-62d3-49d6-b1c5-29df82bc1d9a",
   "metadata": {},
   "source": [
    "$$r=\\dfrac{\\sum_{i=1}^{n}(x_i-\\mu_X),(y_i-\\mu_Y)}{\\sqrt{(\\sum_{i=1}^{n}(x_i-\\mu_X)^2(\\sum_{i=1}^{n}(y_i-\\mu_Y)^2)}}$$"
   ]
  }
 ],
 "metadata": {
  "kernelspec": {
   "display_name": "Python [conda env:base] *",
   "language": "python",
   "name": "conda-base-py"
  },
  "language_info": {
   "codemirror_mode": {
    "name": "ipython",
    "version": 3
   },
   "file_extension": ".py",
   "mimetype": "text/x-python",
   "name": "python",
   "nbconvert_exporter": "python",
   "pygments_lexer": "ipython3",
   "version": "3.12.3"
  },
  "toc": {
   "base_numbering": 1,
   "nav_menu": {},
   "number_sections": true,
   "sideBar": true,
   "skip_h1_title": false,
   "title_cell": "Table of Contents",
   "title_sidebar": "Contents",
   "toc_cell": false,
   "toc_position": {},
   "toc_section_display": true,
   "toc_window_display": false
  },
  "vscode": {
   "interpreter": {
    "hash": "31f2aee4e71d21fbe5cf8b01ff0e069b9275f58929596ceb00d14d90e3e16cd6"
   }
  }
 },
 "nbformat": 4,
 "nbformat_minor": 5
}
