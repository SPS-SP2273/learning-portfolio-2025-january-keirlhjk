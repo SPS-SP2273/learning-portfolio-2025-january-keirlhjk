{
 "cells": [
  {
   "attachments": {},
   "cell_type": "markdown",
   "id": "123456",
   "metadata": {},
   "source": [
    "<div style=\"text-align:left;font-size:2em\"><span style=\"font-weight:bolder;font-size:1.25em\">SP2273 | Learning Portfolio</span><br><br><span style=\"font-weight:bold;color:darkred\">Fundamentals (Good)</span></div>"
   ]
  },
  {
   "cell_type": "code",
   "execution_count": 2,
   "id": "4dc050be-ef9d-465e-aac2-6334b4af74b3",
   "metadata": {},
   "outputs": [],
   "source": [
    "import numpy as np"
   ]
  },
  {
   "cell_type": "code",
   "execution_count": 16,
   "id": "338c68c6-b58e-4e14-aff9-b8d448f2e1fa",
   "metadata": {},
   "outputs": [],
   "source": [
    "x32=np.sqrt(100, dtype=np.float32)\n",
    "x64=np.sqrt(100, dtype=np.float64)"
   ]
  },
  {
   "cell_type": "code",
   "execution_count": 18,
   "id": "08f6ba33-a20e-446d-ac0a-59c9f72a5707",
   "metadata": {},
   "outputs": [
    {
     "data": {
      "text/plain": [
       "10.0"
      ]
     },
     "execution_count": 18,
     "metadata": {},
     "output_type": "execute_result"
    }
   ],
   "source": [
    "x32"
   ]
  },
  {
   "cell_type": "code",
   "execution_count": 20,
   "id": "15fd988e-1070-4c7b-8e9c-763b6e2fa9e9",
   "metadata": {},
   "outputs": [
    {
     "data": {
      "text/plain": [
       "numpy.float32"
      ]
     },
     "execution_count": 20,
     "metadata": {},
     "output_type": "execute_result"
    }
   ],
   "source": [
    "type(x32)"
   ]
  },
  {
   "cell_type": "code",
   "execution_count": 24,
   "id": "dd671d13-a62b-4109-a248-e7a33d27289b",
   "metadata": {},
   "outputs": [
    {
     "data": {
      "text/plain": [
       "str"
      ]
     },
     "execution_count": 24,
     "metadata": {},
     "output_type": "execute_result"
    }
   ],
   "source": [
    "type('age')"
   ]
  },
  {
   "cell_type": "code",
   "execution_count": 26,
   "id": "521335e7-a63e-4513-8607-5cfed35aa9a4",
   "metadata": {},
   "outputs": [
    {
     "data": {
      "text/plain": [
       "int"
      ]
     },
     "execution_count": 26,
     "metadata": {},
     "output_type": "execute_result"
    }
   ],
   "source": [
    "type(1)"
   ]
  },
  {
   "cell_type": "code",
   "execution_count": 28,
   "id": "74300fa3-57e2-4002-8808-2d4a970cc7c2",
   "metadata": {},
   "outputs": [
    {
     "data": {
      "text/plain": [
       "float"
      ]
     },
     "execution_count": 28,
     "metadata": {},
     "output_type": "execute_result"
    }
   ],
   "source": [
    "type(1.5)"
   ]
  },
  {
   "cell_type": "code",
   "execution_count": 34,
   "id": "61c3552c-57bb-4e2e-99bf-955ad2830d2b",
   "metadata": {},
   "outputs": [
    {
     "name": "stdout",
     "output_type": "stream",
     "text": [
      "Not 10\n"
     ]
    }
   ],
   "source": [
    "x=0\n",
    "if x==10:\n",
    "    print('10'*3)\n",
    "else:\n",
    "    print('Not 10')"
   ]
  },
  {
   "cell_type": "code",
   "execution_count": 36,
   "id": "d62a87a6-6dce-43f1-a4c7-79434312216f",
   "metadata": {},
   "outputs": [
    {
     "data": {
      "text/plain": [
       "True"
      ]
     },
     "execution_count": 36,
     "metadata": {},
     "output_type": "execute_result"
    }
   ],
   "source": [
    "4<5"
   ]
  },
  {
   "cell_type": "code",
   "execution_count": 38,
   "id": "dc4ab909-4df6-40d1-b43d-fd4a91e9602b",
   "metadata": {},
   "outputs": [
    {
     "data": {
      "text/plain": [
       "True"
      ]
     },
     "execution_count": 38,
     "metadata": {},
     "output_type": "execute_result"
    }
   ],
   "source": [
    "'apple' < 'orange'"
   ]
  },
  {
   "cell_type": "code",
   "execution_count": 40,
   "id": "2d86dcb2-a9b8-4716-8c46-8313c01f09ed",
   "metadata": {},
   "outputs": [
    {
     "data": {
      "text/plain": [
       "'O'"
      ]
     },
     "execution_count": 40,
     "metadata": {},
     "output_type": "execute_result"
    }
   ],
   "source": [
    "chr(79)"
   ]
  },
  {
   "cell_type": "code",
   "execution_count": 42,
   "id": "94067bf9-db38-41c3-88f5-b1c162cde31f",
   "metadata": {},
   "outputs": [
    {
     "data": {
      "text/plain": [
       "97"
      ]
     },
     "execution_count": 42,
     "metadata": {},
     "output_type": "execute_result"
    }
   ],
   "source": [
    "ord('a')"
   ]
  },
  {
   "cell_type": "code",
   "execution_count": 44,
   "id": "b7027ddc-96e3-4143-921a-7bda71a76e23",
   "metadata": {},
   "outputs": [
    {
     "data": {
      "text/plain": [
       "111"
      ]
     },
     "execution_count": 44,
     "metadata": {},
     "output_type": "execute_result"
    }
   ],
   "source": [
    "ord('o')"
   ]
  },
  {
   "cell_type": "code",
   "execution_count": 50,
   "id": "90a621a4-5be4-4565-9b24-00658cf410cb",
   "metadata": {},
   "outputs": [],
   "source": [
    "a=.1\n",
    "a3=.3"
   ]
  },
  {
   "cell_type": "code",
   "execution_count": 52,
   "id": "8de7364f-eea8-4f30-b506-bbf31e81c9bc",
   "metadata": {},
   "outputs": [
    {
     "data": {
      "text/plain": [
       "False"
      ]
     },
     "execution_count": 52,
     "metadata": {},
     "output_type": "execute_result"
    }
   ],
   "source": [
    "a3==3*a"
   ]
  },
  {
   "cell_type": "code",
   "execution_count": 62,
   "id": "ae610d78-d68b-4a51-b1e5-8b2cdd8ee721",
   "metadata": {},
   "outputs": [
    {
     "data": {
      "text/plain": [
       "5.551115123125783e-17"
      ]
     },
     "execution_count": 62,
     "metadata": {},
     "output_type": "execute_result"
    }
   ],
   "source": [
    "abs(a3-3*a)"
   ]
  },
  {
   "cell_type": "code",
   "execution_count": 58,
   "id": "1caea396-3222-456a-bfa1-91475637128e",
   "metadata": {},
   "outputs": [
    {
     "data": {
      "text/plain": [
       "5.551115123125783e-17"
      ]
     },
     "execution_count": 58,
     "metadata": {},
     "output_type": "execute_result"
    }
   ],
   "source": [
    "3*a-a3"
   ]
  },
  {
   "cell_type": "code",
   "execution_count": 66,
   "id": "46ede668-93c1-416e-946e-482ce0a2f8ac",
   "metadata": {},
   "outputs": [
    {
     "data": {
      "text/plain": [
       "True"
      ]
     },
     "execution_count": 66,
     "metadata": {},
     "output_type": "execute_result"
    }
   ],
   "source": [
    "np.isclose(a3,3*a)"
   ]
  },
  {
   "cell_type": "code",
   "execution_count": 72,
   "id": "1361b4a2-9ff4-4d49-9836-fc587310dea7",
   "metadata": {},
   "outputs": [
    {
     "name": "stdout",
     "output_type": "stream",
     "text": [
      "0.2999999999999999888977698\n"
     ]
    }
   ],
   "source": [
    "print(f'{.3:0.25f}')"
   ]
  },
  {
   "cell_type": "code",
   "execution_count": 80,
   "id": "85acf442-5b09-4673-b375-d13a62ca2027",
   "metadata": {},
   "outputs": [
    {
     "data": {
      "text/plain": [
       "array([0.3], dtype=float32)"
      ]
     },
     "execution_count": 80,
     "metadata": {},
     "output_type": "execute_result"
    }
   ],
   "source": [
    "np.array([.3],dtype=np.float32)"
   ]
  },
  {
   "cell_type": "code",
   "execution_count": 84,
   "id": "33a843f7-fdec-4365-bb53-a612ef4b8402",
   "metadata": {},
   "outputs": [
    {
     "name": "stdout",
     "output_type": "stream",
     "text": [
      "0.300000000000000\n"
     ]
    }
   ],
   "source": [
    "print(f'{.3:0.15f}')"
   ]
  },
  {
   "cell_type": "code",
   "execution_count": 96,
   "id": "876f9bcb-9fec-48c0-bcc1-cd4531c3c805",
   "metadata": {},
   "outputs": [],
   "source": [
    "age=10"
   ]
  },
  {
   "cell_type": "code",
   "execution_count": 108,
   "id": "853b99a2-4bd0-48e9-bd34-529e8386edf3",
   "metadata": {},
   "outputs": [
    {
     "name": "stdout",
     "output_type": "stream",
     "text": [
      "my age is 010.000000\n"
     ]
    }
   ],
   "source": [
    "print(f'my age is {age:010f}')"
   ]
  },
  {
   "cell_type": "code",
   "execution_count": 114,
   "id": "f474ecb5-7403-45a6-8d98-fbeadb97cc7b",
   "metadata": {},
   "outputs": [
    {
     "data": {
      "text/plain": [
       "'HahahBatman              '"
      ]
     },
     "execution_count": 114,
     "metadata": {},
     "output_type": "execute_result"
    }
   ],
   "source": [
    "f'Hahah{'Batman':<20}'"
   ]
  },
  {
   "attachments": {},
   "cell_type": "markdown",
   "id": "26a4526e",
   "metadata": {},
   "source": [
    "# What to expect in this chapter"
   ]
  },
  {
   "attachments": {},
   "cell_type": "markdown",
   "id": "b75cd312",
   "metadata": {},
   "source": [
    "# 1 There is more to if"
   ]
  },
  {
   "attachments": {},
   "cell_type": "markdown",
   "id": "77738940",
   "metadata": {},
   "source": [
    "# 2 Asking questions"
   ]
  },
  {
   "attachments": {},
   "cell_type": "markdown",
   "id": "2c416bd4",
   "metadata": {},
   "source": [
    "## 2.1 Asking Math questions"
   ]
  },
  {
   "attachments": {},
   "cell_type": "markdown",
   "id": "1829e565",
   "metadata": {},
   "source": [
    "# 3 Python stores information in different formats or types"
   ]
  },
  {
   "attachments": {},
   "cell_type": "markdown",
   "id": "17b2e93c",
   "metadata": {},
   "source": [
    "# 4 Never compare floats directly"
   ]
  },
  {
   "attachments": {},
   "cell_type": "markdown",
   "id": "b112505c",
   "metadata": {},
   "source": [
    "## 4.1 The Problem"
   ]
  },
  {
   "attachments": {},
   "cell_type": "markdown",
   "id": "979c124c",
   "metadata": {},
   "source": [
    "## 4.2 A solution"
   ]
  },
  {
   "attachments": {},
   "cell_type": "markdown",
   "id": "05646acd",
   "metadata": {},
   "source": [
    "# 5 Combining English and variables"
   ]
  },
  {
   "attachments": {},
   "cell_type": "markdown",
   "id": "b9d4670d",
   "metadata": {},
   "source": [
    "## 5.1 Structure of f-strings"
   ]
  },
  {
   "attachments": {},
   "cell_type": "markdown",
   "id": "89303a9a",
   "metadata": {},
   "source": [
    "# 6 Escape sequences"
   ]
  },
  {
   "attachments": {},
   "cell_type": "markdown",
   "id": "16b911e9",
   "metadata": {},
   "source": [
    "## 6.1 Self-documenting f-strings"
   ]
  },
  {
   "attachments": {},
   "cell_type": "markdown",
   "id": "46d52863",
   "metadata": {},
   "source": [
    "# 7 Computers read = from Right to Left!"
   ]
  },
  {
   "attachments": {},
   "cell_type": "markdown",
   "id": "f6f61796",
   "metadata": {},
   "source": [
    "# 8 Shorter and Cleaner Code"
   ]
  },
  {
   "attachments": {},
   "cell_type": "markdown",
   "id": "752f50b2",
   "metadata": {},
   "source": [
    "# 9 Python can be a prima-donna."
   ]
  },
  {
   "attachments": {},
   "cell_type": "markdown",
   "id": "f5281337",
   "metadata": {},
   "source": [
    "# 10 Best Practices for Scientific Computing"
   ]
  },
  {
   "attachments": {},
   "cell_type": "markdown",
   "id": "ab88ef8d",
   "metadata": {},
   "source": [
    "# 11 Looking for help"
   ]
  },
  {
   "attachments": {},
   "cell_type": "markdown",
   "id": "944312f4",
   "metadata": {},
   "source": [
    "## References"
   ]
  },
  {
   "attachments": {},
   "cell_type": "markdown",
   "id": "93276dd2",
   "metadata": {},
   "source": [
    "## Footnotes"
   ]
  }
 ],
 "metadata": {
  "kernelspec": {
   "display_name": "Python [conda env:base] *",
   "language": "python",
   "name": "conda-base-py"
  },
  "language_info": {
   "codemirror_mode": {
    "name": "ipython",
    "version": 3
   },
   "file_extension": ".py",
   "mimetype": "text/x-python",
   "name": "python",
   "nbconvert_exporter": "python",
   "pygments_lexer": "ipython3",
   "version": "3.12.3"
  },
  "toc": {
   "base_numbering": 1,
   "nav_menu": {},
   "number_sections": true,
   "sideBar": true,
   "skip_h1_title": false,
   "title_cell": "Table of Contents",
   "title_sidebar": "Contents",
   "toc_cell": false,
   "toc_position": {},
   "toc_section_display": true,
   "toc_window_display": false
  },
  "vscode": {
   "interpreter": {
    "hash": "31f2aee4e71d21fbe5cf8b01ff0e069b9275f58929596ceb00d14d90e3e16cd6"
   }
  }
 },
 "nbformat": 4,
 "nbformat_minor": 5
}
