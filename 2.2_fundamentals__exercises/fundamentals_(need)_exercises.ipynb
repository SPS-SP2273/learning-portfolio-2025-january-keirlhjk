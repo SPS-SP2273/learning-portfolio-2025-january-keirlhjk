{
 "cells": [
  {
   "attachments": {},
   "cell_type": "markdown",
   "id": "123456",
   "metadata": {},
   "source": [
    "<div style=\"text-align:left;font-size:2em\"><span style=\"font-weight:bolder;font-size:1.25em\">SP2273 | Learning Portfolio</span><br><br><span style=\"font-weight:bold;color:darkred\">Fundamentals (Need) Exercises</span></div>"
   ]
  },
  {
   "cell_type": "markdown",
   "id": "c5551dc4-5be5-4af4-b302-3f5a78e85674",
   "metadata": {},
   "source": [
    "### Exercise 1"
   ]
  },
  {
   "cell_type": "markdown",
   "id": "b06cdc46-8838-4e56-89b5-14e3c6c197ce",
   "metadata": {},
   "source": [
    "1. 3 types of brackets in python.\n",
    "    - (): for mathematics & to call a function\n",
    "    - []: to list\n",
    "    - {}: to store data in a dictionary\n",
    "2. Python is case sensitive, Print would not work\n",
    "3. Able to import numpy for mathematical functions\n",
    "4. Use == to ask python questions. \"True\" or \"False\" will be returned\n",
    "\n",
    "_5. # To insert comments to code\n",
    "6.  = is used to set something equal\n",
    "7. Use **if** to make decisions. Note indentations (spaces/tabs) to define output for True and False\n",
    "8. Importance of spaces. Do not use them indiscriminately\n",
    "9. Be careful with mixing English up with variables. Use \"\" or ''\n",
    "10. . indicates ownership_"
   ]
  },
  {
   "cell_type": "markdown",
   "id": "daa7c453-ed7a-4763-8647-6905bf997f4b",
   "metadata": {},
   "source": [
    "### Exercise 2"
   ]
  },
  {
   "cell_type": "code",
   "execution_count": 12,
   "id": "539151e4-1f3f-456e-b7e5-12e4686f78e0",
   "metadata": {},
   "outputs": [
    {
     "ename": "IndentationError",
     "evalue": "unindent does not match any outer indentation level (<string>, line 3)",
     "output_type": "error",
     "traceback": [
      "\u001b[1;36m  File \u001b[1;32m<string>:3\u001b[1;36m\u001b[0m\n\u001b[1;33m    Print(x, y, z)\u001b[0m\n\u001b[1;37m                  ^\u001b[0m\n\u001b[1;31mIndentationError\u001b[0m\u001b[1;31m:\u001b[0m unindent does not match any outer indentation level\n"
     ]
    }
   ],
   "source": [
    "x, y = 3, 4\n",
    "        z = sqrt(x*2 + y**2)\n",
    "    Print(x, y, z)"
   ]
  },
  {
   "cell_type": "code",
   "execution_count": 14,
   "id": "16fb1d38-be4d-45c9-b028-78952d6275ba",
   "metadata": {},
   "outputs": [],
   "source": [
    "import math"
   ]
  },
  {
   "cell_type": "code",
   "execution_count": 20,
   "id": "4425672c-98f5-4550-96b9-003c5bae8637",
   "metadata": {},
   "outputs": [
    {
     "name": "stdout",
     "output_type": "stream",
     "text": [
      "3 4 5.0\n"
     ]
    }
   ],
   "source": [
    "x, y = 3, 4\n",
    "z = math.sqrt(x**2 + y**2)\n",
    "print(x, y, z)"
   ]
  },
  {
   "cell_type": "markdown",
   "id": "f9bce331-703b-4345-91d4-5db1821e7769",
   "metadata": {},
   "source": [
    "### Exercise 3"
   ]
  },
  {
   "cell_type": "markdown",
   "id": "b4281981-ae21-4bc0-bf33-da3950fe2f65",
   "metadata": {},
   "source": [
    "|  # |     Term     | Description                                                                              |\n",
    "|:--:|:------------:|------------------------------------------------------------------------------------------|\n",
    "|  1 | Function     | A function does a specific does and may or may not require an argument.                  |\n",
    "|  2 | Arguments    | Arguments are placed into functions.                                                     |\n",
    "|  3 | Comments     | Comments are made to explain the thought process of the code to collaborators.           |\n",
    "| 4  | Indentations | Indentations are used to separate the True and Fales outputs when using the if function. |\n",
    "| 5  | Packages     | Packages can be imported into Python to give it extra capabilities.                      |\n",
    "| 6  | .            | . is used to indicate ownership.                                                         |\n",
    "| 7  | :            | : is used at the start to indicate an indentation.                                       |\n",
    "| 8  | []           | [] are used to indicate that the data between them are in a list.                        |\n",
    "| 9  | [[],[]]      | A two-dimensional list, where the position and values are related.                       |\n",
    "| 10 | {}           | Curly brackets stores data in a dictionary.                                              |"
   ]
  },
  {
   "cell_type": "markdown",
   "id": "b2d4f850-f7d8-45f2-8280-18aa85de8a46",
   "metadata": {},
   "source": [
    "### Exercise 4"
   ]
  },
  {
   "cell_type": "code",
   "execution_count": 53,
   "id": "3274b34f-95a6-4858-9a80-372a4cd36c21",
   "metadata": {},
   "outputs": [
    {
     "data": {
      "text/plain": [
       "2.5"
      ]
     },
     "execution_count": 53,
     "metadata": {},
     "output_type": "execute_result"
    }
   ],
   "source": [
    "5/2 # Standard mathematical division where a decimal is returned"
   ]
  },
  {
   "cell_type": "code",
   "execution_count": 55,
   "id": "a40ebde0-9c6e-4914-949e-cf7d8e698867",
   "metadata": {},
   "outputs": [
    {
     "data": {
      "text/plain": [
       "2"
      ]
     },
     "execution_count": 55,
     "metadata": {},
     "output_type": "execute_result"
    }
   ],
   "source": [
    "5//2 # Rounds the ouput to an integer"
   ]
  },
  {
   "cell_type": "code",
   "execution_count": 57,
   "id": "442f3ea6-239d-4f4f-8dac-31b6a4266027",
   "metadata": {},
   "outputs": [
    {
     "data": {
      "text/plain": [
       "1"
      ]
     },
     "execution_count": 57,
     "metadata": {},
     "output_type": "execute_result"
    }
   ],
   "source": [
    "5%2 # Give the remainder of the division"
   ]
  },
  {
   "cell_type": "code",
   "execution_count": 47,
   "id": "a1efe318-58ac-4242-af0b-fe231d7c3111",
   "metadata": {},
   "outputs": [
    {
     "data": {
      "text/plain": [
       "1.6666666666666667"
      ]
     },
     "execution_count": 47,
     "metadata": {},
     "output_type": "execute_result"
    }
   ],
   "source": [
    "5/3"
   ]
  },
  {
   "cell_type": "code",
   "execution_count": 49,
   "id": "82381d15-640d-4c7e-81b0-b46698334f09",
   "metadata": {},
   "outputs": [
    {
     "data": {
      "text/plain": [
       "1"
      ]
     },
     "execution_count": 49,
     "metadata": {},
     "output_type": "execute_result"
    }
   ],
   "source": [
    "5//3"
   ]
  },
  {
   "cell_type": "code",
   "execution_count": 51,
   "id": "9abdc703-7cbe-46b7-b359-a274eec8a1f7",
   "metadata": {},
   "outputs": [
    {
     "data": {
      "text/plain": [
       "2"
      ]
     },
     "execution_count": 51,
     "metadata": {},
     "output_type": "execute_result"
    }
   ],
   "source": [
    "5%3"
   ]
  },
  {
   "cell_type": "code",
   "execution_count": null,
   "id": "71e6637d-b3ed-4ee7-a167-88699d340aa3",
   "metadata": {},
   "outputs": [],
   "source": []
  },
  {
   "cell_type": "code",
   "execution_count": null,
   "id": "d52a1b3a-a781-49c3-98e0-181f31748fa1",
   "metadata": {},
   "outputs": [],
   "source": []
  }
 ],
 "metadata": {
  "kernelspec": {
   "display_name": "Python [conda env:base] *",
   "language": "python",
   "name": "conda-base-py"
  },
  "language_info": {
   "codemirror_mode": {
    "name": "ipython",
    "version": 3
   },
   "file_extension": ".py",
   "mimetype": "text/x-python",
   "name": "python",
   "nbconvert_exporter": "python",
   "pygments_lexer": "ipython3",
   "version": "3.12.3"
  },
  "toc": {
   "base_numbering": 1,
   "nav_menu": {},
   "number_sections": true,
   "sideBar": true,
   "skip_h1_title": false,
   "title_cell": "Table of Contents",
   "title_sidebar": "Contents",
   "toc_cell": false,
   "toc_position": {},
   "toc_section_display": true,
   "toc_window_display": false
  },
  "vscode": {
   "interpreter": {
    "hash": "31f2aee4e71d21fbe5cf8b01ff0e069b9275f58929596ceb00d14d90e3e16cd6"
   }
  }
 },
 "nbformat": 4,
 "nbformat_minor": 5
}
