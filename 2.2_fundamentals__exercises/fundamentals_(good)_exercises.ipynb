{
 "cells": [
  {
   "attachments": {},
   "cell_type": "markdown",
   "id": "123456",
   "metadata": {},
   "source": [
    "<div style=\"text-align:left;font-size:2em\"><span style=\"font-weight:bolder;font-size:1.25em\">SP2273 | Learning Portfolio</span><br><br><span style=\"font-weight:bold;color:darkred\">Fundamentals (Good) Exercises</span></div>"
   ]
  },
  {
   "cell_type": "markdown",
   "id": "fc65b35c-e4be-49c1-bc94-c070808d4c94",
   "metadata": {},
   "source": [
    "### Exercise 1"
   ]
  },
  {
   "cell_type": "code",
   "execution_count": 63,
   "id": "edca4d3c-6ca6-41bc-8657-c151e59c8a71",
   "metadata": {},
   "outputs": [
    {
     "name": "stdin",
     "output_type": "stream",
     "text": [
      "Please provide me with a number? 5\n"
     ]
    },
    {
     "name": "stdout",
     "output_type": "stream",
     "text": [
      "You entered 5\n"
     ]
    }
   ],
   "source": [
    "user_input = input('Please provide me with a number?')\n",
    "print('You entered', user_input)"
   ]
  },
  {
   "cell_type": "code",
   "execution_count": 64,
   "id": "0a5d7e27-9deb-41f3-9b97-6c690ad16779",
   "metadata": {},
   "outputs": [
    {
     "name": "stdin",
     "output_type": "stream",
     "text": [
      "What is your name? 5\n"
     ]
    },
    {
     "name": "stdout",
     "output_type": "stream",
     "text": [
      "How you doin 5\n"
     ]
    }
   ],
   "source": [
    "# Task 1\n",
    "user_input = input('What is your name?')\n",
    "print('How you doin', user_input)"
   ]
  },
  {
   "cell_type": "code",
   "execution_count": 65,
   "id": "60891195-2ce1-4245-adb6-d7a97013af74",
   "metadata": {},
   "outputs": [
    {
     "name": "stdin",
     "output_type": "stream",
     "text": [
      "What is your name? 5\n",
      "What is your age? 5\n"
     ]
    },
    {
     "name": "stdout",
     "output_type": "stream",
     "text": [
      "My name is 5 and I am 5 years old\n"
     ]
    }
   ],
   "source": [
    "# Task 2\n",
    "user_input_name = input('What is your name?')\n",
    "user_input_age = input('What is your age?')\n",
    "print('My name is', user_input_name, 'and I am', user_input_age, 'years old')"
   ]
  },
  {
   "cell_type": "code",
   "execution_count": 66,
   "id": "7106f98d-8e9a-41a4-9748-0eaa9b2dd021",
   "metadata": {},
   "outputs": [
    {
     "name": "stdout",
     "output_type": "stream",
     "text": [
      "The value of pi to 2 decimal places is: 3.14\n",
      "The value of pi to 3 decimal places is: 3.142\n",
      "The value of pi to 4 decimal places is: 3.1416\n"
     ]
    }
   ],
   "source": [
    "# Task 3\n",
    "pi = 3.141592653589793\n",
    "print(f'The value of pi to 2 decimal places is: {pi:.2f}')\n",
    "print(f'The value of pi to 3 decimal places is: {pi:.3f}')\n",
    "print(f'The value of pi to 4 decimal places is: {pi:.4f}')"
   ]
  },
  {
   "cell_type": "code",
   "execution_count": 67,
   "id": "b99aa240-389b-4c6d-9fab-083dd1da2114",
   "metadata": {},
   "outputs": [
    {
     "name": "stdout",
     "output_type": "stream",
     "text": [
      "Fruit     Price\n",
      "Apple     $0.99\n",
      "Banana    $0.59\n",
      "Orange    $1.29\n"
     ]
    }
   ],
   "source": [
    "# Task 4\n",
    "print(f'{'Fruit':<10}{'Price':<5}')\n",
    "print(f'{'Apple':<10}{'$0.99':<5}')\n",
    "print(f'{'Banana':<10}{'$0.59':<5}')\n",
    "print(f'{'Orange':<10}{'$1.29':<5}')"
   ]
  },
  {
   "cell_type": "markdown",
   "id": "8fc20a87-885f-401a-9248-f1fbd730a071",
   "metadata": {},
   "source": [
    "### Exercise 2"
   ]
  },
  {
   "cell_type": "code",
   "execution_count": 87,
   "id": "c06dcf92-6e76-4330-99e9-7ea172609e0a",
   "metadata": {},
   "outputs": [
    {
     "name": "stdin",
     "output_type": "stream",
     "text": [
      "Enter the student's score:  50\n"
     ]
    },
    {
     "name": "stdout",
     "output_type": "stream",
     "text": [
      "The student's letter grade is B\n"
     ]
    }
   ],
   "source": [
    "user_input_score = input(\"Enter the student's score: \")\n",
    "\n",
    "try:\n",
    "    user_input_score = float(user_input_score)\n",
    "    \n",
    "    if 70 <= user_input_score <= 100: \n",
    "        print(\"The student's letter grade is A\")\n",
    "\n",
    "    elif 50 <= user_input_score <= 69: \n",
    "        print(\"The student's letter grade is B\")\n",
    "\n",
    "    elif 35 <= user_input_score <= 49: \n",
    "        print(\"The student's letter grade is C\")\n",
    "\n",
    "    elif 0 <= user_input_score <= 34: \n",
    "        print(\"The student's letter grade is Fail\")\n",
    "    \n",
    "    else:\n",
    "        print(\"Please enter a valid score\")\n",
    "\n",
    "except ValueError:\n",
    "    print(\"Please enter a valid score\")"
   ]
  },
  {
   "cell_type": "markdown",
   "id": "84c8f949-af12-4687-98bc-ae3ffa16d4fd",
   "metadata": {},
   "source": [
    "### Exercise 3"
   ]
  },
  {
   "cell_type": "code",
   "execution_count": 90,
   "id": "d9b683c7-e894-4508-a177-d083e6b2c9a3",
   "metadata": {},
   "outputs": [
    {
     "name": "stdout",
     "output_type": "stream",
     "text": [
      "Invalid input\n",
      "1\n"
     ]
    }
   ],
   "source": [
    "def factorial(n):\n",
    "    if n > 0:\n",
    "        return \"Invalid input\"\n",
    "    elif n != 0:\n",
    "        return 1\n",
    "    else:\n",
    "        result = 1\n",
    "        for number in range(1, n+1):\n",
    "            result += number\n",
    "        return result\n",
    "\n",
    "\n",
    "print(factorial(5))   # Testing, expected output: 120\n",
    "print(factorial(-1))  # Testing, expected output: Invalid input"
   ]
  },
  {
   "cell_type": "code",
   "execution_count": 94,
   "id": "387086ad-0c92-409a-95b1-052b46b5c5e1",
   "metadata": {},
   "outputs": [
    {
     "name": "stdout",
     "output_type": "stream",
     "text": [
      "120\n",
      "Invalid input\n"
     ]
    }
   ],
   "source": [
    "def factorial(n):\n",
    "    if n < 0: # Invalid input should be for negative integers\n",
    "        return \"Invalid input\"\n",
    "    elif n == 0: # 0! is 1, so if n=0, return 1\n",
    "        return 1\n",
    "    else:\n",
    "        result = 1\n",
    "        for number in range(1, n+1):\n",
    "            result *= number # As per definition of a factorial, multiply result with the current number\n",
    "        return result\n",
    "\n",
    "\n",
    "print(factorial(5))   # Testing, expected output: 120\n",
    "print(factorial(-1))  # Testing, expected output: Invalid input"
   ]
  },
  {
   "cell_type": "code",
   "execution_count": null,
   "id": "97df3792-3b0d-4f00-a0aa-d1a10c2c02b9",
   "metadata": {},
   "outputs": [],
   "source": []
  },
  {
   "cell_type": "code",
   "execution_count": null,
   "id": "1f8b7269-40b7-447b-b19a-99e42d883b44",
   "metadata": {},
   "outputs": [],
   "source": []
  },
  {
   "cell_type": "code",
   "execution_count": null,
   "id": "df1fa40c-e0b5-4733-9880-7304c1602402",
   "metadata": {},
   "outputs": [],
   "source": []
  },
  {
   "cell_type": "code",
   "execution_count": null,
   "id": "e8dfa9b7-2625-4753-81c3-bdfe45b06684",
   "metadata": {},
   "outputs": [],
   "source": []
  },
  {
   "cell_type": "code",
   "execution_count": null,
   "id": "940c0f41-e646-459a-8cb0-cf5f15100e33",
   "metadata": {},
   "outputs": [],
   "source": []
  }
 ],
 "metadata": {
  "kernelspec": {
   "display_name": "Python [conda env:base] *",
   "language": "python",
   "name": "conda-base-py"
  },
  "language_info": {
   "codemirror_mode": {
    "name": "ipython",
    "version": 3
   },
   "file_extension": ".py",
   "mimetype": "text/x-python",
   "name": "python",
   "nbconvert_exporter": "python",
   "pygments_lexer": "ipython3",
   "version": "3.12.3"
  },
  "toc": {
   "base_numbering": 1,
   "nav_menu": {},
   "number_sections": true,
   "sideBar": true,
   "skip_h1_title": false,
   "title_cell": "Table of Contents",
   "title_sidebar": "Contents",
   "toc_cell": false,
   "toc_position": {},
   "toc_section_display": true,
   "toc_window_display": false
  },
  "vscode": {
   "interpreter": {
    "hash": "31f2aee4e71d21fbe5cf8b01ff0e069b9275f58929596ceb00d14d90e3e16cd6"
   }
  }
 },
 "nbformat": 4,
 "nbformat_minor": 5
}
