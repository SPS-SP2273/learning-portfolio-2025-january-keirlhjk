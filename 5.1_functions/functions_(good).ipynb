{
 "cells": [
  {
   "attachments": {},
   "cell_type": "markdown",
   "id": "123456",
   "metadata": {},
   "source": [
    "<div style=\"text-align:left;font-size:2em\"><span style=\"font-weight:bolder;font-size:1.25em\">SP2273 | Learning Portfolio</span><br><br><span style=\"font-weight:bold;color:darkred\">Functions (Good)</span></div>"
   ]
  },
  {
   "cell_type": "code",
   "execution_count": 77,
   "id": "2428f649-1854-44a7-910b-d13edb4a36cc",
   "metadata": {},
   "outputs": [],
   "source": [
    "import numpy as np"
   ]
  },
  {
   "cell_type": "code",
   "execution_count": 1,
   "id": "6fa07403-8805-4958-abba-3e8beab01154",
   "metadata": {},
   "outputs": [],
   "source": [
    "def area_triangle(base, height):\n",
    "    return (1/2 * base * height)"
   ]
  },
  {
   "cell_type": "code",
   "execution_count": 3,
   "id": "1463915d-513f-46f4-86be-c2c5c22f25d5",
   "metadata": {},
   "outputs": [
    {
     "data": {
      "text/plain": [
       "10.0"
      ]
     },
     "execution_count": 3,
     "metadata": {},
     "output_type": "execute_result"
    }
   ],
   "source": [
    "area_triangle(4,5)"
   ]
  },
  {
   "cell_type": "code",
   "execution_count": 7,
   "id": "f63d115a-3700-4b6a-99a3-8838a53723dc",
   "metadata": {},
   "outputs": [
    {
     "ename": "NameError",
     "evalue": "name 'base' is not defined",
     "output_type": "error",
     "traceback": [
      "\u001b[1;31m---------------------------------------------------------------------------\u001b[0m",
      "\u001b[1;31mNameError\u001b[0m                                 Traceback (most recent call last)",
      "Cell \u001b[1;32mIn[7], line 1\u001b[0m\n\u001b[1;32m----> 1\u001b[0m base\n",
      "\u001b[1;31mNameError\u001b[0m: name 'base' is not defined"
     ]
    }
   ],
   "source": [
    "base # Can't call base and height that exists within the function. NameError: base and heigh within the function is not accessbible outside it. base is a local variable, function forms a box."
   ]
  },
  {
   "cell_type": "code",
   "execution_count": 9,
   "id": "eee1daa1-3732-4fa3-b026-a9efb12e3eb5",
   "metadata": {},
   "outputs": [
    {
     "ename": "AssertionError",
     "evalue": "x must be positive",
     "output_type": "error",
     "traceback": [
      "\u001b[1;31m---------------------------------------------------------------------------\u001b[0m",
      "\u001b[1;31mAssertionError\u001b[0m                            Traceback (most recent call last)",
      "Cell \u001b[1;32mIn[9], line 2\u001b[0m\n\u001b[0;32m      1\u001b[0m x \u001b[38;5;241m=\u001b[39m \u001b[38;5;241m-\u001b[39m\u001b[38;5;241m1\u001b[39m\n\u001b[1;32m----> 2\u001b[0m \u001b[38;5;28;01massert\u001b[39;00m x \u001b[38;5;241m>\u001b[39m\u001b[38;5;241m=\u001b[39m\u001b[38;5;241m0\u001b[39m, \u001b[38;5;124m\"\u001b[39m\u001b[38;5;124mx must be positive\u001b[39m\u001b[38;5;124m\"\u001b[39m\n",
      "\u001b[1;31mAssertionError\u001b[0m: x must be positive"
     ]
    }
   ],
   "source": [
    " x = -1\n",
    "assert x >=0, \"x must be positive\""
   ]
  },
  {
   "cell_type": "code",
   "execution_count": 11,
   "id": "65a69640-b1fe-4d20-b01c-f1c95b861b04",
   "metadata": {},
   "outputs": [
    {
     "name": "stdout",
     "output_type": "stream",
     "text": [
      "0\n",
      "1\n",
      "2\n",
      "3\n",
      "4\n",
      "5\n"
     ]
    },
    {
     "ename": "AssertionError",
     "evalue": "i is too big",
     "output_type": "error",
     "traceback": [
      "\u001b[1;31m---------------------------------------------------------------------------\u001b[0m",
      "\u001b[1;31mAssertionError\u001b[0m                            Traceback (most recent call last)",
      "Cell \u001b[1;32mIn[11], line 2\u001b[0m\n\u001b[0;32m      1\u001b[0m \u001b[38;5;28;01mfor\u001b[39;00m i \u001b[38;5;129;01min\u001b[39;00m \u001b[38;5;28mrange\u001b[39m(\u001b[38;5;241m10\u001b[39m):\n\u001b[1;32m----> 2\u001b[0m     \u001b[38;5;28;01massert\u001b[39;00m i\u001b[38;5;241m<\u001b[39m\u001b[38;5;241m=\u001b[39m\u001b[38;5;241m5\u001b[39m, \u001b[38;5;124m\"\u001b[39m\u001b[38;5;124mi is too big\u001b[39m\u001b[38;5;124m\"\u001b[39m\n\u001b[0;32m      3\u001b[0m     \u001b[38;5;28mprint\u001b[39m(i)\n",
      "\u001b[1;31mAssertionError\u001b[0m: i is too big"
     ]
    }
   ],
   "source": [
    "for i in range(10):\n",
    "    assert i<=5, \"i is too big\"\n",
    "    print(i)"
   ]
  },
  {
   "cell_type": "code",
   "execution_count": 15,
   "id": "7372f6d8-c542-426c-b1d4-a3a6b6edf5e7",
   "metadata": {},
   "outputs": [
    {
     "ename": "ZeroDivisionError",
     "evalue": "division by zero",
     "output_type": "error",
     "traceback": [
      "\u001b[1;31m---------------------------------------------------------------------------\u001b[0m",
      "\u001b[1;31mZeroDivisionError\u001b[0m                         Traceback (most recent call last)",
      "Cell \u001b[1;32mIn[15], line 2\u001b[0m\n\u001b[0;32m      1\u001b[0m \u001b[38;5;28;01mfor\u001b[39;00m i \u001b[38;5;129;01min\u001b[39;00m \u001b[38;5;28mrange\u001b[39m(\u001b[38;5;241m10\u001b[39m):\n\u001b[1;32m----> 2\u001b[0m     \u001b[38;5;28mprint\u001b[39m(\u001b[38;5;241m1\u001b[39m\u001b[38;5;241m/\u001b[39mi)\n",
      "\u001b[1;31mZeroDivisionError\u001b[0m: division by zero"
     ]
    }
   ],
   "source": [
    "for i in range(10):\n",
    "    print(1/i)"
   ]
  },
  {
   "cell_type": "code",
   "execution_count": 19,
   "id": "2959a113-b3a8-47fc-9597-f59bea3e0dc2",
   "metadata": {},
   "outputs": [
    {
     "name": "stdout",
     "output_type": "stream",
     "text": [
      "1.0\n",
      "0.5\n",
      "0.3333333333333333\n",
      "0.25\n",
      "0.2\n",
      "0.16666666666666666\n",
      "0.14285714285714285\n",
      "0.125\n",
      "0.1111111111111111\n"
     ]
    }
   ],
   "source": [
    "for i in range(10): \n",
    "    try:\n",
    "        print(1/i)\n",
    "    except ZeroDivisionError:\n",
    "        continue"
   ]
  },
  {
   "cell_type": "code",
   "execution_count": 23,
   "id": "ba62a97c-f677-4810-b690-bbd8e166acb8",
   "metadata": {},
   "outputs": [],
   "source": [
    "for i in range(10): \n",
    "    try:\n",
    "        print(1/i)\n",
    "    except ZeroDivisionError:\n",
    "        break\n",
    "\n",
    "# No output because the first number will cause a zerodivisionerror and then it will break out of the loop"
   ]
  },
  {
   "cell_type": "code",
   "execution_count": 25,
   "id": "1669eacf-9686-421b-b639-80711da8c599",
   "metadata": {},
   "outputs": [
    {
     "name": "stdout",
     "output_type": "stream",
     "text": [
      "you divided by 0, idiot\n",
      "1.0\n",
      "0.5\n",
      "0.3333333333333333\n",
      "0.25\n",
      "0.2\n",
      "0.16666666666666666\n",
      "0.14285714285714285\n",
      "0.125\n",
      "0.1111111111111111\n"
     ]
    }
   ],
   "source": [
    "for i in range(10): \n",
    "    try:\n",
    "        print(1/i)\n",
    "    except ZeroDivisionError:\n",
    "        print(\"you divided by 0, idiot\")"
   ]
  },
  {
   "cell_type": "code",
   "execution_count": 33,
   "id": "1b0fe3d2-1d3e-4dd4-b5b8-773f9b8e9fbf",
   "metadata": {},
   "outputs": [
    {
     "name": "stdin",
     "output_type": "stream",
     "text": [
      "Tell me your age 5\n"
     ]
    }
   ],
   "source": [
    "try:\n",
    "    x = input(\"Tell me your age\")\n",
    "    x = int(x)\n",
    "except ValueError:\n",
    "    print(\"Input a number, dolt!\")"
   ]
  },
  {
   "cell_type": "code",
   "execution_count": 39,
   "id": "cb31fd96-84c0-4cd6-9530-e55d727b26c7",
   "metadata": {},
   "outputs": [
    {
     "name": "stdin",
     "output_type": "stream",
     "text": [
      "Tell me your age j\n"
     ]
    },
    {
     "name": "stdout",
     "output_type": "stream",
     "text": [
      "Input a number, dolt!\n"
     ]
    },
    {
     "name": "stdin",
     "output_type": "stream",
     "text": [
      "Tell me your age 5\n"
     ]
    }
   ],
   "source": [
    "found = False\n",
    "while found == False:\n",
    "    try:\n",
    "        x = input(\"Tell me your age\") \n",
    "        x = int(x)\n",
    "        found = True\n",
    "    except ValueError:\n",
    "        print(\"Input a number, dolt!\")\n",
    "# Using try excepts in conjunction with loops.\n",
    "# Expanation of code:\n",
    "    # Define this variable called found, and that we haven't found anything yet\n",
    "    # Start a while loop. While loop checks condition, if true - keep going, if false - it'll stop. The condition it is checking is if found is false. Yes in this case.\n",
    "    #"
   ]
  },
  {
   "cell_type": "code",
   "execution_count": 41,
   "id": "84b86750-5fba-4511-8030-b3678b007bb9",
   "metadata": {},
   "outputs": [
    {
     "name": "stdin",
     "output_type": "stream",
     "text": [
      "Tell me your age 5\n"
     ]
    }
   ],
   "source": [
    "while True:\n",
    "    try:\n",
    "        x = input(\"Tell me your age\") \n",
    "        x = int(x)\n",
    "        break\n",
    "    except ValueError:\n",
    "        print(\"Input a number, dolt!\")\n",
    "# Don't do this! Will cause issues further down the road. Program will continue running if u forget \"break\"\n"
   ]
  },
  {
   "cell_type": "code",
   "execution_count": 51,
   "id": "6147ea50-3734-4915-912e-3464878ecb56",
   "metadata": {},
   "outputs": [],
   "source": [
    "def volume_cuboid(length, width, height=5):\n",
    "    return (length * height * width)"
   ]
  },
  {
   "cell_type": "code",
   "execution_count": 53,
   "id": "4aea577b-4350-4a70-a353-4eaa10725e1d",
   "metadata": {},
   "outputs": [
    {
     "data": {
      "text/plain": [
       "210"
      ]
     },
     "execution_count": 53,
     "metadata": {},
     "output_type": "execute_result"
    }
   ],
   "source": [
    "volume_cuboid(5, 6, 7)"
   ]
  },
  {
   "cell_type": "code",
   "execution_count": 59,
   "id": "9a325322-f641-4461-9379-f1cc3247aff1",
   "metadata": {},
   "outputs": [
    {
     "data": {
      "text/plain": [
       "210"
      ]
     },
     "execution_count": 59,
     "metadata": {},
     "output_type": "execute_result"
    }
   ],
   "source": [
    "volume_cuboid(length=5, width=6, height=7)\n",
    "# order can be changed in any way if you do it this way"
   ]
  },
  {
   "cell_type": "code",
   "execution_count": 67,
   "id": "4fddde49-806b-428a-aa7e-2c786a9700ae",
   "metadata": {},
   "outputs": [
    {
     "data": {
      "text/plain": [
       "150"
      ]
     },
     "execution_count": 67,
     "metadata": {},
     "output_type": "execute_result"
    }
   ],
   "source": [
    "volume_cuboid(5, 6)\n",
    "# function will use default value of height as defined above"
   ]
  },
  {
   "cell_type": "code",
   "execution_count": 69,
   "id": "d938b293-c41f-4188-8ebf-f96c6c4feccb",
   "metadata": {},
   "outputs": [
    {
     "ename": "SyntaxError",
     "evalue": "positional argument follows keyword argument (2745089494.py, line 1)",
     "output_type": "error",
     "traceback": [
      "\u001b[1;36m  Cell \u001b[1;32mIn[69], line 1\u001b[1;36m\u001b[0m\n\u001b[1;33m    volume_cuboid(width=5, 6)\u001b[0m\n\u001b[1;37m                            ^\u001b[0m\n\u001b[1;31mSyntaxError\u001b[0m\u001b[1;31m:\u001b[0m positional argument follows keyword argument\n"
     ]
    }
   ],
   "source": [
    "volume_cuboid(width=5, 6)\n",
    "# Python is confused as to whether 6 is the length or the height\n",
    "# When you feed in values, you need to becareful of the order in which the values are fed"
   ]
  },
  {
   "cell_type": "code",
   "execution_count": 71,
   "id": "a0cae281-c3a9-40ab-95dc-fd24bbdbf023",
   "metadata": {},
   "outputs": [
    {
     "data": {
      "text/plain": [
       "150"
      ]
     },
     "execution_count": 71,
     "metadata": {},
     "output_type": "execute_result"
    }
   ],
   "source": [
    "volume_cuboid(6, width=5)"
   ]
  },
  {
   "cell_type": "code",
   "execution_count": null,
   "id": "9ec92a76-1d44-495f-9479-017abf5babb8",
   "metadata": {},
   "outputs": [],
   "source": []
  },
  {
   "cell_type": "code",
   "execution_count": 73,
   "id": "fdacc50c-dc83-4f07-bc30-0ee05ba2695a",
   "metadata": {},
   "outputs": [],
   "source": [
    "def calculator(value, func):\n",
    "    '''This is something we created in SP2273 to calculate stuff.''' #Docstring\n",
    "    return func(value)\n",
    "    "
   ]
  },
  {
   "cell_type": "code",
   "execution_count": 75,
   "id": "90b9ad92-7887-4efb-b22d-db81eec3f874",
   "metadata": {},
   "outputs": [
    {
     "name": "stdout",
     "output_type": "stream",
     "text": [
      "Help on function calculator in module __main__:\n",
      "\n",
      "calculator(value, func)\n",
      "    This is something we created in SP2273 to calculate stuff.\n",
      "\n"
     ]
    }
   ],
   "source": [
    "help(calculator)"
   ]
  },
  {
   "cell_type": "code",
   "execution_count": 79,
   "id": "94b5374c-5302-4663-b6f8-9a1b43c03da2",
   "metadata": {},
   "outputs": [
    {
     "data": {
      "text/plain": [
       "0.0"
      ]
     },
     "execution_count": 79,
     "metadata": {},
     "output_type": "execute_result"
    }
   ],
   "source": [
    "calculator(0, np.sin)"
   ]
  },
  {
   "cell_type": "code",
   "execution_count": 83,
   "id": "1422c520-8299-4dcc-99c6-c07c53f8f158",
   "metadata": {},
   "outputs": [],
   "source": [
    "def volume_cuboid_mod(length, width, height=5):\n",
    "    return ([length * height * width, length, height, width])"
   ]
  },
  {
   "cell_type": "code",
   "execution_count": 85,
   "id": "d2fc8a0e-fb0f-4614-adcb-5682d319318c",
   "metadata": {},
   "outputs": [
    {
     "data": {
      "text/plain": [
       "[100, 5, 5, 4]"
      ]
     },
     "execution_count": 85,
     "metadata": {},
     "output_type": "execute_result"
    }
   ],
   "source": [
    "volume_cuboid_mod(5,4)"
   ]
  },
  {
   "cell_type": "code",
   "execution_count": 89,
   "id": "739d68cb-03c4-4b0b-b85b-0d977d3c3979",
   "metadata": {},
   "outputs": [],
   "source": [
    "vol, *dimensions = volume_cuboid_mod(5,4)\n",
    "\n",
    "# * is telling it to take as much as it wants"
   ]
  },
  {
   "cell_type": "code",
   "execution_count": 91,
   "id": "4a037399-fc07-4a54-81c1-02c23640c520",
   "metadata": {},
   "outputs": [
    {
     "data": {
      "text/plain": [
       "100"
      ]
     },
     "execution_count": 91,
     "metadata": {},
     "output_type": "execute_result"
    }
   ],
   "source": [
    "vol"
   ]
  },
  {
   "cell_type": "code",
   "execution_count": 93,
   "id": "b3158707-7d7a-4bc8-94ab-a78cc05db77e",
   "metadata": {},
   "outputs": [
    {
     "data": {
      "text/plain": [
       "[5, 5, 4]"
      ]
     },
     "execution_count": 93,
     "metadata": {},
     "output_type": "execute_result"
    }
   ],
   "source": [
    "dimensions"
   ]
  },
  {
   "cell_type": "code",
   "execution_count": null,
   "id": "76943c4e-2b54-461e-9c71-cc04bbb1394f",
   "metadata": {},
   "outputs": [],
   "source": []
  },
  {
   "cell_type": "code",
   "execution_count": null,
   "id": "58ab9e59-7265-419a-91e9-f295e490aef1",
   "metadata": {},
   "outputs": [],
   "source": []
  },
  {
   "attachments": {},
   "cell_type": "markdown",
   "id": "2f361fdd",
   "metadata": {},
   "source": [
    "# What to expect in this chapter"
   ]
  },
  {
   "attachments": {},
   "cell_type": "markdown",
   "id": "55988677",
   "metadata": {},
   "source": [
    "# 1 Checks, balances, and contingencies"
   ]
  },
  {
   "attachments": {},
   "cell_type": "markdown",
   "id": "96fe7c6b",
   "metadata": {},
   "source": [
    "## 1.1 assert"
   ]
  },
  {
   "attachments": {},
   "cell_type": "markdown",
   "id": "d34ae49c",
   "metadata": {},
   "source": [
    "## 1.2 try-except"
   ]
  },
  {
   "attachments": {},
   "cell_type": "markdown",
   "id": "744abe68",
   "metadata": {},
   "source": [
    "## 1.3 A simple suggestion"
   ]
  },
  {
   "attachments": {},
   "cell_type": "markdown",
   "id": "2a7c5083",
   "metadata": {},
   "source": [
    "# 2 Some loose ends"
   ]
  },
  {
   "attachments": {},
   "cell_type": "markdown",
   "id": "2dea19b3",
   "metadata": {},
   "source": [
    "## 2.1 Positional, keyword and default arguments"
   ]
  },
  {
   "attachments": {},
   "cell_type": "markdown",
   "id": "c1b54a9a",
   "metadata": {},
   "source": [
    "## 2.2 Docstrings"
   ]
  },
  {
   "attachments": {},
   "cell_type": "markdown",
   "id": "60372bce",
   "metadata": {},
   "source": [
    "## 2.3 Function are first-class citizens"
   ]
  },
  {
   "attachments": {},
   "cell_type": "markdown",
   "id": "116592be",
   "metadata": {},
   "source": [
    "## 2.4 More about unpacking"
   ]
  }
 ],
 "metadata": {
  "kernelspec": {
   "display_name": "Python [conda env:base] *",
   "language": "python",
   "name": "conda-base-py"
  },
  "language_info": {
   "codemirror_mode": {
    "name": "ipython",
    "version": 3
   },
   "file_extension": ".py",
   "mimetype": "text/x-python",
   "name": "python",
   "nbconvert_exporter": "python",
   "pygments_lexer": "ipython3",
   "version": "3.12.3"
  },
  "toc": {
   "base_numbering": 1,
   "nav_menu": {},
   "number_sections": true,
   "sideBar": true,
   "skip_h1_title": false,
   "title_cell": "Table of Contents",
   "title_sidebar": "Contents",
   "toc_cell": false,
   "toc_position": {},
   "toc_section_display": true,
   "toc_window_display": false
  },
  "vscode": {
   "interpreter": {
    "hash": "31f2aee4e71d21fbe5cf8b01ff0e069b9275f58929596ceb00d14d90e3e16cd6"
   }
  }
 },
 "nbformat": 4,
 "nbformat_minor": 5
}
