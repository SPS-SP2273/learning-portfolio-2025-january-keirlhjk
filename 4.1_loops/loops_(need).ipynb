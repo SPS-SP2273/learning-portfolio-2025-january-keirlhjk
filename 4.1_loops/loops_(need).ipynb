{
 "cells": [
  {
   "attachments": {},
   "cell_type": "markdown",
   "id": "123456",
   "metadata": {},
   "source": [
    "<div style=\"text-align:left;font-size:2em\"><span style=\"font-weight:bolder;font-size:1.25em\">SP2273 | Learning Portfolio</span><br><br><span style=\"font-weight:bold;color:darkred\">Loops (Need)</span></div>"
   ]
  },
  {
   "cell_type": "code",
   "execution_count": 42,
   "id": "385f2e8a-6f8b-4435-97b9-7360dbacb01a",
   "metadata": {},
   "outputs": [],
   "source": [
    "names = [\"Jolene\", \"Joelle\",\"bobby\", \"Yuen Xuan\", \"Wei Jie\", \"Jun Hean\", \"Ming Rong\", \"Kendrea\", \"Vanessa\", \"Joey\", \"Caitlin\", \"Ryan\"]\n",
    "\n",
    "majors = [\"Chem\", \"Pharm\", \"Pharm\", \"LS\", \"Pharm\", \"Pharm\", \"LS\", \"LS\", \"Pharm\", \"Pharm\", \"Biz and Psych\", \"RE\"]\n",
    "\n",
    "years = [\"1st\", \"4th\", \"4th\", \"1st\", \"4th\", \"4th\", \"1st\", \"2nd\", \"4th\", \"4th\", \"4th\", \"4th\"]\n"
   ]
  },
  {
   "cell_type": "code",
   "execution_count": 44,
   "id": "cd21e89e-2953-4c33-8356-695e5a7237e1",
   "metadata": {},
   "outputs": [
    {
     "name": "stdout",
     "output_type": "stream",
     "text": [
      "Name:Joelle, Major:Pharm, Year: 4th\n"
     ]
    }
   ],
   "source": [
    "index=1\n",
    "print(f'Name:{names[index]}, Major:{majors[index]}, Year: {years[index]}')\n",
    "\n",
    "# A lot of work to index the list one at a time"
   ]
  },
  {
   "cell_type": "code",
   "execution_count": 46,
   "id": "86afec83-f927-40ad-a569-c7764010eef7",
   "metadata": {},
   "outputs": [
    {
     "name": "stdout",
     "output_type": "stream",
     "text": [
      "Name:Jolene    , Major:Chem                          , Year: 1st       \n",
      "Name:Joelle    , Major:Pharm                         , Year: 4th       \n",
      "Name:bobby     , Major:Pharm                         , Year: 4th       \n",
      "Name:Yuen Xuan , Major:LS                            , Year: 1st       \n",
      "Name:Wei Jie   , Major:Pharm                         , Year: 4th       \n",
      "Name:Jun Hean  , Major:Pharm                         , Year: 4th       \n",
      "Name:Ming Rong , Major:LS                            , Year: 1st       \n",
      "Name:Kendrea   , Major:LS                            , Year: 2nd       \n",
      "Name:Vanessa   , Major:Pharm                         , Year: 4th       \n",
      "Name:Joey      , Major:Pharm                         , Year: 4th       \n",
      "Name:Caitlin   , Major:Biz and Psych                 , Year: 4th       \n",
      "Name:Ryan      , Major:RE                            , Year: 4th       \n"
     ]
    }
   ],
   "source": [
    "for index in range (len(names)):\n",
    "    print(f'Name:{names[index]:<10}, Major:{majors[index]:<30}, Year: {years[index]:<10}')\n",
    "\n",
    "# Use for loop to create index"
   ]
  },
  {
   "cell_type": "code",
   "execution_count": 48,
   "id": "31215e92-10cc-43a1-aa3f-cd5f84b9934c",
   "metadata": {},
   "outputs": [
    {
     "name": "stdout",
     "output_type": "stream",
     "text": [
      "Name:Jolene    , Major:Chem                          , Year:1st       \n",
      "Name:Joelle    , Major:Pharm                         , Year:4th       \n",
      "Name:bobby     , Major:Pharm                         , Year:4th       \n",
      "Name:Yuen Xuan , Major:LS                            , Year:1st       \n",
      "Name:Wei Jie   , Major:Pharm                         , Year:4th       \n",
      "Name:Jun Hean  , Major:Pharm                         , Year:4th       \n",
      "Name:Ming Rong , Major:LS                            , Year:1st       \n",
      "Name:Kendrea   , Major:LS                            , Year:2nd       \n",
      "Name:Vanessa   , Major:Pharm                         , Year:4th       \n",
      "Name:Joey      , Major:Pharm                         , Year:4th       \n",
      "Name:Caitlin   , Major:Biz and Psych                 , Year:4th       \n",
      "Name:Ryan      , Major:RE                            , Year:4th       \n"
     ]
    }
   ],
   "source": [
    "for name, major, year in zip(names, majors, years):\n",
    "    print(f'Name:{name:<10}, Major:{major:<30}, Year:{year:<10}')\n",
    "\n",
    "# Using Zip"
   ]
  },
  {
   "cell_type": "code",
   "execution_count": 50,
   "id": "190ef45c-d955-4cc7-995e-f4c13fe5520c",
   "metadata": {},
   "outputs": [
    {
     "name": "stdout",
     "output_type": "stream",
     "text": [
      "Name:Jolene    , Major:RE                            , Year:4th       \n",
      "Name:Joelle    , Major:RE                            , Year:4th       \n",
      "Name:bobby     , Major:RE                            , Year:4th       \n",
      "Name:Yuen Xuan , Major:RE                            , Year:4th       \n",
      "Name:Wei Jie   , Major:RE                            , Year:4th       \n",
      "Name:Jun Hean  , Major:RE                            , Year:4th       \n",
      "Name:Ming Rong , Major:RE                            , Year:4th       \n",
      "Name:Kendrea   , Major:RE                            , Year:4th       \n",
      "Name:Vanessa   , Major:RE                            , Year:4th       \n",
      "Name:Joey      , Major:RE                            , Year:4th       \n",
      "Name:Caitlin   , Major:RE                            , Year:4th       \n",
      "Name:Ryan      , Major:RE                            , Year:4th       \n"
     ]
    }
   ],
   "source": [
    "for name in names:\n",
    "    print(f'Name:{name:<10}, Major:{major:<30}, Year:{year:<10}')\n",
    "\n",
    "# Does not work"
   ]
  },
  {
   "cell_type": "code",
   "execution_count": 51,
   "id": "8cbd99d2-71fd-418a-95d5-153437ac85d4",
   "metadata": {},
   "outputs": [
    {
     "name": "stdout",
     "output_type": "stream",
     "text": [
      "Name:Jolene    , Major:Chem                          , Year:1st       \n",
      "Name:Joelle    , Major:Pharm                         , Year:4th       \n",
      "Name:bobby     , Major:Pharm                         , Year:4th       \n",
      "Name:Yuen Xuan , Major:LS                            , Year:1st       \n",
      "Name:Wei Jie   , Major:Pharm                         , Year:4th       \n",
      "Name:Jun Hean  , Major:Pharm                         , Year:4th       \n",
      "Name:Ming Rong , Major:LS                            , Year:1st       \n",
      "Name:Kendrea   , Major:LS                            , Year:2nd       \n",
      "Name:Vanessa   , Major:Pharm                         , Year:4th       \n",
      "Name:Joey      , Major:Pharm                         , Year:4th       \n",
      "Name:Caitlin   , Major:Biz and Psych                 , Year:4th       \n",
      "Name:Ryan      , Major:RE                            , Year:4th       \n"
     ]
    }
   ],
   "source": [
    "index = 0\n",
    "for name in names:\n",
    "    print(f'Name:{name:<10}, Major:{majors[index]:<30}, Year:{years[index]:<10}')\n",
    "    index +=1\n",
    "\n",
    "# Using for loop to go through the names, everytime we go through the name it goes up by 1"
   ]
  },
  {
   "cell_type": "code",
   "execution_count": 54,
   "id": "10946ba3-382a-4c85-83b8-14bd005ee5b3",
   "metadata": {},
   "outputs": [
    {
     "name": "stdout",
     "output_type": "stream",
     "text": [
      "1: Name:Jolene    , Major:Chem                          , Year:1st       \n",
      "2: Name:Joelle    , Major:Pharm                         , Year:4th       \n",
      "3: Name:bobby     , Major:Pharm                         , Year:4th       \n",
      "4: Name:Yuen Xuan , Major:LS                            , Year:1st       \n",
      "5: Name:Wei Jie   , Major:Pharm                         , Year:4th       \n",
      "6: Name:Jun Hean  , Major:Pharm                         , Year:4th       \n",
      "7: Name:Ming Rong , Major:LS                            , Year:1st       \n",
      "8: Name:Kendrea   , Major:LS                            , Year:2nd       \n",
      "9: Name:Vanessa   , Major:Pharm                         , Year:4th       \n",
      "10: Name:Joey      , Major:Pharm                         , Year:4th       \n",
      "11: Name:Caitlin   , Major:Biz and Psych                 , Year:4th       \n",
      "12: Name:Ryan      , Major:RE                            , Year:4th       \n"
     ]
    }
   ],
   "source": [
    "index = 0\n",
    "for name in names:\n",
    "    print(f'{index+1}: Name:{name:<10}, Major:{majors[index]:<30}, Year:{years[index]:<10}')\n",
    "    index +=1\n"
   ]
  },
  {
   "cell_type": "code",
   "execution_count": 56,
   "id": "cbaa088d-ed7e-42b8-a94f-f0ac85d18eab",
   "metadata": {},
   "outputs": [
    {
     "name": "stdout",
     "output_type": "stream",
     "text": [
      "1: Name:Jolene    , Major:Chem                          , Year:1st       \n",
      "2: Name:Joelle    , Major:Pharm                         , Year:4th       \n",
      "3: Name:bobby     , Major:Pharm                         , Year:4th       \n",
      "4: Name:Yuen Xuan , Major:LS                            , Year:1st       \n",
      "5: Name:Wei Jie   , Major:Pharm                         , Year:4th       \n",
      "6: Name:Jun Hean  , Major:Pharm                         , Year:4th       \n",
      "7: Name:Ming Rong , Major:LS                            , Year:1st       \n",
      "8: Name:Kendrea   , Major:LS                            , Year:2nd       \n",
      "9: Name:Vanessa   , Major:Pharm                         , Year:4th       \n",
      "10: Name:Joey      , Major:Pharm                         , Year:4th       \n",
      "11: Name:Caitlin   , Major:Biz and Psych                 , Year:4th       \n",
      "12: Name:Ryan      , Major:RE                            , Year:4th       \n"
     ]
    }
   ],
   "source": [
    "# index = 0\n",
    "for index, name in enumerate(names):\n",
    "    print(f'{index+1}: Name:{name:<10}, Major:{majors[index]:<30}, Year:{years[index]:<10}')\n",
    "   #  index +=1\n",
    "\n",
    "\n",
    "# Enumerate gives the name and the count"
   ]
  },
  {
   "cell_type": "code",
   "execution_count": 58,
   "id": "123b70a2-c4cb-49fd-a435-24a08ee5f755",
   "metadata": {},
   "outputs": [
    {
     "name": "stdout",
     "output_type": "stream",
     "text": [
      "1: Name:Jolene    , Major:Chem                          , Year:1st       \n",
      "4: Name:Yuen Xuan , Major:LS                            , Year:1st       \n",
      "7: Name:Ming Rong , Major:LS                            , Year:1st       \n"
     ]
    }
   ],
   "source": [
    "for index, name in enumerate(names):\n",
    "    year = years[index]\n",
    "    if year == '1st':\n",
    "        print(f'{index+1}: Name:{name:<10}, Major:{majors[index]:<30}, Year:{year:<10}')"
   ]
  },
  {
   "cell_type": "code",
   "execution_count": null,
   "id": "4f8e0054-d32a-4dc5-8715-65a1ce363182",
   "metadata": {},
   "outputs": [],
   "source": []
  },
  {
   "cell_type": "code",
   "execution_count": 61,
   "id": "1385340e-cd7f-4557-bb17-5c5a7b4f56c5",
   "metadata": {},
   "outputs": [
    {
     "name": "stdout",
     "output_type": "stream",
     "text": [
      "10\n",
      "9\n",
      "8\n",
      "7\n",
      "6\n",
      "5\n",
      "4\n",
      "3\n",
      "2\n",
      "1\n"
     ]
    }
   ],
   "source": [
    "x=10\n",
    "while x > 0:\n",
    "    print(x)\n",
    "    x -=1"
   ]
  },
  {
   "cell_type": "code",
   "execution_count": 63,
   "id": "c74abaea-43cd-4c1f-9921-badb6155f6f1",
   "metadata": {},
   "outputs": [
    {
     "name": "stdout",
     "output_type": "stream",
     "text": [
      "1: Name:Jolene    , Major:Chem                          , Year:1st       \n",
      "4: Name:Yuen Xuan , Major:LS                            , Year:1st       \n",
      "7: Name:Ming Rong , Major:LS                            , Year:1st       \n"
     ]
    }
   ],
   "source": [
    "for index, name in enumerate(names):\n",
    "    year = years[index]\n",
    "    if year == '1st':\n",
    "        print(f'{index+1}: Name:{name:<10}, Major:{majors[index]:<30}, Year:{year:<10}')\n",
    "    else:\n",
    "        continue"
   ]
  },
  {
   "cell_type": "code",
   "execution_count": 65,
   "id": "df4ba692-b4a8-467d-b81e-4ec0e073e13e",
   "metadata": {},
   "outputs": [
    {
     "name": "stdout",
     "output_type": "stream",
     "text": [
      "1: Name:Jolene    , Major:Chem                          , Year:1st       \n"
     ]
    }
   ],
   "source": [
    "for index, name in enumerate(names):\n",
    "    year = years[index]\n",
    "    if year == '1st':\n",
    "        print(f'{index+1}: Name:{name:<10}, Major:{majors[index]:<30}, Year:{year:<10}')\n",
    "        break\n",
    "    else:\n",
    "        continue\n",
    "\n",
    "# Breaks loop once 1st year is found"
   ]
  },
  {
   "cell_type": "code",
   "execution_count": 68,
   "id": "f1e0212b-afc7-4264-b72c-9043d800ad56",
   "metadata": {},
   "outputs": [],
   "source": [
    "names = [\"Jolene\", \"Joelle\",\"bobby\", \"Yuen Xuan\", \"Wei Jie\", \"Jun Hean\", \"Ming Rong\", \"Kendrea\", \"Vanessa\", \"Joey\", \"Caitlin\", \"Ryan\"]\n",
    "\n",
    "majors = [\"Chem\", \"Pharm\", \"Pharm\", \"LS\", \"Pharm\", \"Pharm\", \"LS\", \"LS\", \"Pharm\", \"Pharm\", \"Biz and Psych\", \"RE\"]\n",
    "\n",
    "years = [\"1st\", \"4th\", \"4th\", \"1st\", \"4th\", \"4th\", \"1st\", \"2nd\", \"4th\", \"4th\", \"4th\", \"4th\"]"
   ]
  },
  {
   "cell_type": "code",
   "execution_count": 76,
   "id": "c5b096e8-8ef7-4943-ae4d-46b769bb5fba",
   "metadata": {},
   "outputs": [],
   "source": [
    "names_upper = list() # Create an empty list\n",
    "for name in names:\n",
    "    names_upper.append(name.upper())\n",
    "    # print(name.upper())"
   ]
  },
  {
   "cell_type": "code",
   "execution_count": 78,
   "id": "0d133ed0-d84c-4fd1-b04a-ecfedc87173a",
   "metadata": {},
   "outputs": [
    {
     "data": {
      "text/plain": [
       "['JOLENE',\n",
       " 'JOELLE',\n",
       " 'BOBBY',\n",
       " 'YUEN XUAN',\n",
       " 'WEI JIE',\n",
       " 'JUN HEAN',\n",
       " 'MING RONG',\n",
       " 'KENDREA',\n",
       " 'VANESSA',\n",
       " 'JOEY',\n",
       " 'CAITLIN',\n",
       " 'RYAN']"
      ]
     },
     "execution_count": 78,
     "metadata": {},
     "output_type": "execute_result"
    }
   ],
   "source": [
    "names_upper"
   ]
  },
  {
   "cell_type": "code",
   "execution_count": 84,
   "id": "7692488f-4dd6-494f-8dc5-67272376621f",
   "metadata": {},
   "outputs": [],
   "source": [
    "replace_info ={\n",
    "    'Chem':'Chemistry',\n",
    "    'Life Science': 'Life Sciences',\n",
    "    'Biz Real Estate': 'Business Real Estate',\n",
    "}"
   ]
  },
  {
   "cell_type": "code",
   "execution_count": 86,
   "id": "e3f79036-ffe0-4cac-ac10-e6f2edb08742",
   "metadata": {},
   "outputs": [
    {
     "data": {
      "text/plain": [
       "{'Chem': 'Chemistry',\n",
       " 'Life Science': 'Life Sciences',\n",
       " 'Biz Real Estate': 'Business Real Estate'}"
      ]
     },
     "execution_count": 86,
     "metadata": {},
     "output_type": "execute_result"
    }
   ],
   "source": [
    "replace_info"
   ]
  },
  {
   "cell_type": "code",
   "execution_count": 88,
   "id": "b3e1e3e7-ac88-4259-b135-db291a93d60e",
   "metadata": {},
   "outputs": [
    {
     "name": "stdout",
     "output_type": "stream",
     "text": [
      "Chem Chemistry\n",
      "Life Science Life Sciences\n",
      "Biz Real Estate Business Real Estate\n"
     ]
    }
   ],
   "source": [
    "for key, value in replace_info.items():\n",
    "    print(key, value)\n",
    "\n",
    "# items is a function that dictionary offers. Throw both key and value"
   ]
  },
  {
   "cell_type": "code",
   "execution_count": 90,
   "id": "9b04ffa6-fee6-42a7-8349-134d4cf602b5",
   "metadata": {},
   "outputs": [
    {
     "name": "stdout",
     "output_type": "stream",
     "text": [
      "Chem Chemistry\n",
      "Life Science Life Sciences\n",
      "Biz Real Estate Business Real Estate\n"
     ]
    }
   ],
   "source": [
    "for old_major, new_major in replace_info.items():\n",
    "    print(old_major, new_major)"
   ]
  },
  {
   "cell_type": "code",
   "execution_count": 94,
   "id": "25e8a5d3-58e3-4c3c-9ff7-dd9bc4c643d4",
   "metadata": {},
   "outputs": [
    {
     "data": {
      "text/plain": [
       "'Chex'"
      ]
     },
     "execution_count": 94,
     "metadata": {},
     "output_type": "execute_result"
    }
   ],
   "source": [
    "'Chem'.replace('Chem', 'Chex')"
   ]
  },
  {
   "cell_type": "code",
   "execution_count": 102,
   "id": "6c69fd22-8d96-4009-8e5b-7645bac8a861",
   "metadata": {},
   "outputs": [
    {
     "name": "stdout",
     "output_type": "stream",
     "text": [
      "Life Science\n",
      "Life Sciences\n",
      "Life Sciences\n"
     ]
    }
   ],
   "source": [
    "major = 'Life Science'\n",
    "for old_major, new_major in replace_info.items():\n",
    "    major = major.replace(old_major, new_major)\n",
    "    print(major)"
   ]
  },
  {
   "cell_type": "code",
   "execution_count": 106,
   "id": "6f0cbc36-4ef2-4a61-9b84-4ce87ae1d823",
   "metadata": {},
   "outputs": [],
   "source": [
    "def clean_majors(major):\n",
    "    replace_info ={\n",
    "    'Chem':'Chemistry',\n",
    "    'Life Science': 'Life Sciences',\n",
    "    'Biz Real Estate': 'Business Real Estate',\n",
    "    }\n",
    "\n",
    "    for old_major, new_major in replace_info.items(): # Unpacking goes on here\n",
    "        major = major.replace(old_major, new_major)\n",
    "\n",
    "    return major\n",
    "\n",
    "# def to create a function. Functions don't always have to return. Some functions have mandatory arguments, some dont."
   ]
  },
  {
   "cell_type": "code",
   "execution_count": 112,
   "id": "e656c81c-3871-4f3c-9978-d0e1f1203d6f",
   "metadata": {},
   "outputs": [
    {
     "data": {
      "text/plain": [
       "'Life Sciences'"
      ]
     },
     "execution_count": 112,
     "metadata": {},
     "output_type": "execute_result"
    }
   ],
   "source": [
    "clean_majors('Life Science')"
   ]
  },
  {
   "cell_type": "code",
   "execution_count": 118,
   "id": "5296bcbe-7e71-4737-acd1-d0c6f3b130c5",
   "metadata": {},
   "outputs": [
    {
     "name": "stdout",
     "output_type": "stream",
     "text": [
      "Cleaned Chem --> Chemistry\n",
      "Cleaned Pharmacy --> Pharmacy\n",
      "Cleaned Pharmacy --> Pharmacy\n",
      "Cleaned Life Sciences --> Life Sciencess\n",
      "Cleaned Pharmacy --> Pharmacy\n",
      "Cleaned Pharmacy --> Pharmacy\n",
      "Cleaned Life Science --> Life Sciences\n",
      "Cleaned Life Science --> Life Sciences\n",
      "Cleaned Pharmacy --> Pharmacy\n",
      "Cleaned Pharmacy --> Pharmacy\n",
      "Cleaned Business and Psychology --> Business and Psychology\n",
      "Cleaned Biz Real Estate --> Business Real Estate\n"
     ]
    },
    {
     "data": {
      "text/plain": [
       "['Chemistry',\n",
       " 'Pharmacy',\n",
       " 'Pharmacy',\n",
       " 'Life Sciencess',\n",
       " 'Pharmacy',\n",
       " 'Pharmacy',\n",
       " 'Life Sciences',\n",
       " 'Life Sciences',\n",
       " 'Pharmacy',\n",
       " 'Pharmacy',\n",
       " 'Business and Psychology',\n",
       " 'Business Real Estate']"
      ]
     },
     "execution_count": 118,
     "metadata": {},
     "output_type": "execute_result"
    }
   ],
   "source": [
    "majors = [\"Chem\", \"Pharmacy\", \"Pharmacy\", \"Life Sciences\", \"Pharmacy\", \"Pharmacy\", \"Life Science\", \"Life Science\", \"Pharmacy\", \"Pharmacy\", \"Business and Psychology\", \"Biz Real Estate\"]\n",
    "\n",
    "majors_cleaned = [] \n",
    "for major in majors:\n",
    "    cleaned_major = clean_majors(major)\n",
    "    majors_cleaned.append(cleaned_major)\n",
    "\n",
    "    print(f'Cleaned {major} --> {cleaned_major}')\n",
    "\n",
    "majors_cleaned"
   ]
  },
  {
   "cell_type": "code",
   "execution_count": 120,
   "id": "423a318b-de23-48ac-9688-680412b1805d",
   "metadata": {},
   "outputs": [
    {
     "data": {
      "text/plain": [
       "['Chemistry',\n",
       " 'Pharmacy',\n",
       " 'Pharmacy',\n",
       " 'Life Sciencess',\n",
       " 'Pharmacy',\n",
       " 'Pharmacy',\n",
       " 'Life Sciences',\n",
       " 'Life Sciences',\n",
       " 'Pharmacy',\n",
       " 'Pharmacy',\n",
       " 'Business and Psychology',\n",
       " 'Business Real Estate']"
      ]
     },
     "execution_count": 120,
     "metadata": {},
     "output_type": "execute_result"
    }
   ],
   "source": [
    "[clean_majors(major) for major in majors]\n",
    "\n",
    "# List comprehension"
   ]
  },
  {
   "cell_type": "code",
   "execution_count": null,
   "id": "0ee63b53-4d51-4daa-8838-eec9c62829b6",
   "metadata": {},
   "outputs": [],
   "source": []
  },
  {
   "cell_type": "code",
   "execution_count": null,
   "id": "aa7d60f0-be0d-41a1-8775-20af3dee5985",
   "metadata": {},
   "outputs": [],
   "source": []
  },
  {
   "cell_type": "code",
   "execution_count": null,
   "id": "d976d71f-d610-4857-8d03-71e184688674",
   "metadata": {},
   "outputs": [],
   "source": []
  },
  {
   "cell_type": "code",
   "execution_count": null,
   "id": "82ee3143-31c7-49f9-89a8-83e3a94f0e09",
   "metadata": {},
   "outputs": [],
   "source": []
  },
  {
   "cell_type": "code",
   "execution_count": null,
   "id": "b434ebc4-fde4-4fb3-a117-2a633dde1262",
   "metadata": {},
   "outputs": [],
   "source": []
  },
  {
   "cell_type": "code",
   "execution_count": null,
   "id": "2f81b8ed-6ac1-499b-b61a-c2ac2af4d708",
   "metadata": {},
   "outputs": [],
   "source": []
  },
  {
   "cell_type": "code",
   "execution_count": null,
   "id": "d1aa24d4-495e-429a-9b4c-e429499540be",
   "metadata": {},
   "outputs": [],
   "source": []
  },
  {
   "cell_type": "code",
   "execution_count": null,
   "id": "3a884d61-cb81-4a01-bd8d-718be5a6e37d",
   "metadata": {},
   "outputs": [],
   "source": []
  },
  {
   "cell_type": "code",
   "execution_count": null,
   "id": "9fddab1e-c41c-4757-892f-19c6a238eab8",
   "metadata": {},
   "outputs": [],
   "source": []
  },
  {
   "cell_type": "code",
   "execution_count": null,
   "id": "21fd83e0-f124-449c-93bf-85e6b9cbd1c3",
   "metadata": {},
   "outputs": [],
   "source": []
  },
  {
   "cell_type": "code",
   "execution_count": null,
   "id": "7a80f4df-fdb3-48cb-8487-238001c9db0a",
   "metadata": {},
   "outputs": [],
   "source": []
  },
  {
   "cell_type": "code",
   "execution_count": null,
   "id": "ecf22fa5-3701-4a60-858c-01d3387abeb2",
   "metadata": {},
   "outputs": [],
   "source": []
  },
  {
   "attachments": {},
   "cell_type": "markdown",
   "id": "ec3827d7",
   "metadata": {},
   "source": [
    "# What to expect in this chapter"
   ]
  },
  {
   "attachments": {},
   "cell_type": "markdown",
   "id": "94946da4",
   "metadata": {},
   "source": [
    "# 1 The for iterator"
   ]
  },
  {
   "attachments": {},
   "cell_type": "markdown",
   "id": "ea209ea6",
   "metadata": {},
   "source": [
    "## 1.1 for with a list"
   ]
  },
  {
   "attachments": {},
   "cell_type": "markdown",
   "id": "8898f533",
   "metadata": {},
   "source": [
    "## 1.2 for with enumerate"
   ]
  },
  {
   "attachments": {},
   "cell_type": "markdown",
   "id": "3d73030a",
   "metadata": {},
   "source": [
    "## 1.3 for with range"
   ]
  },
  {
   "attachments": {},
   "cell_type": "markdown",
   "id": "65d34c9a",
   "metadata": {},
   "source": [
    "# 2 while"
   ]
  }
 ],
 "metadata": {
  "kernelspec": {
   "display_name": "Python [conda env:base] *",
   "language": "python",
   "name": "conda-base-py"
  },
  "language_info": {
   "codemirror_mode": {
    "name": "ipython",
    "version": 3
   },
   "file_extension": ".py",
   "mimetype": "text/x-python",
   "name": "python",
   "nbconvert_exporter": "python",
   "pygments_lexer": "ipython3",
   "version": "3.12.3"
  },
  "toc": {
   "base_numbering": 1,
   "nav_menu": {},
   "number_sections": true,
   "sideBar": true,
   "skip_h1_title": false,
   "title_cell": "Table of Contents",
   "title_sidebar": "Contents",
   "toc_cell": false,
   "toc_position": {},
   "toc_section_display": true,
   "toc_window_display": false
  },
  "vscode": {
   "interpreter": {
    "hash": "31f2aee4e71d21fbe5cf8b01ff0e069b9275f58929596ceb00d14d90e3e16cd6"
   }
  }
 },
 "nbformat": 4,
 "nbformat_minor": 5
}
