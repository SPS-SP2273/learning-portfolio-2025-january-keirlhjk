{
 "cells": [
  {
   "attachments": {},
   "cell_type": "markdown",
   "id": "123456",
   "metadata": {},
   "source": [
    "<div style=\"text-align:left;font-size:2em\"><span style=\"font-weight:bolder;font-size:1.25em\">SP2273 | Learning Portfolio</span><br><br><span style=\"font-weight:bold;color:darkred\">Storing Data (Need) Exercises</span></div>"
   ]
  },
  {
   "cell_type": "markdown",
   "id": "d46263e3-4a15-4ef5-8044-9e3a2a8dae0e",
   "metadata": {},
   "source": [
    "### Exercise 1"
   ]
  },
  {
   "cell_type": "markdown",
   "id": "1ec25314-f533-4bba-ba78-be233f2c1587",
   "metadata": {},
   "source": [
    "1. Lists and arrays are both ways to store data in python. _For lists and arrays, the order matters._\n",
    "3. Numpy must be imported for arrays to be used. Arrays are used for mathematical stuff (e.g. functions will be applied to each element in the list instead of the list as a whole). _Arrays insist on having only a single data type; lists are more accommodating. Multiplying by a number makes a list grow, whereas an array multiplies its elements by the number._\n",
    "4.  Dictionary has a key and a value in the dataset. _Dictionaries hold data (values) paired with a key._"
   ]
  },
  {
   "cell_type": "markdown",
   "id": "49347163-cce7-40da-a9be-1a8e7f75fb5b",
   "metadata": {},
   "source": [
    "### Exercise 2"
   ]
  },
  {
   "cell_type": "code",
   "execution_count": 9,
   "id": "58084f40-fdc8-41df-b925-f87b5ca2ffa4",
   "metadata": {},
   "outputs": [
    {
     "name": "stdout",
     "output_type": "stream",
     "text": [
      "i9\n"
     ]
    }
   ],
   "source": [
    "py_list = [\"a1\", \"b2\", \"c3\", \"d4\", \"e5\", \"f6\", \"g7\", \"h8\", \"i9\", \"j10\"]\n",
    "                    # Prints 'a1'\n",
    "                    # Prints 'c3'\n",
    "                    # Prints 'e5'\n",
    "                    # Prints 'g7'\n",
    "print(py_list[8])   # Prints 'i9'"
   ]
  },
  {
   "cell_type": "code",
   "execution_count": 11,
   "id": "d605be85-ed8f-4e74-b56d-682d45f35c21",
   "metadata": {},
   "outputs": [
    {
     "name": "stdout",
     "output_type": "stream",
     "text": [
      "a1\n",
      "c3\n",
      "e5\n",
      "g7\n",
      "i9\n"
     ]
    }
   ],
   "source": [
    "py_list = [\"a1\", \"b2\", \"c3\", \"d4\", \"e5\", \"f6\", \"g7\", \"h8\", \"i9\", \"j10\"]\n",
    "print(py_list[0])    # Prints 'a1'\n",
    "print(py_list[2])   # Prints 'c3'\n",
    "print(py_list[4])   # Prints 'e5'\n",
    "print(py_list[6])   # Prints 'g7'\n",
    "print(py_list[8])   # Prints 'i9'"
   ]
  },
  {
   "cell_type": "markdown",
   "id": "3e8efc07-4b48-48fc-9a94-c16b18bd1363",
   "metadata": {},
   "source": [
    "### Exercise 3"
   ]
  },
  {
   "cell_type": "code",
   "execution_count": 18,
   "id": "9c0e4fa8-b609-427c-98fd-c5a66ab77250",
   "metadata": {},
   "outputs": [],
   "source": [
    "elements = ['Hydrogen',\n",
    "            'Helium', 'Lithium',\n",
    "            'Beryllium', 'Boron', 'Carbon',\n",
    "            'Nitrogen', 'Oxygen',\n",
    "            'Fluorine',\n",
    "            'Neon']"
   ]
  },
  {
   "cell_type": "code",
   "execution_count": 20,
   "id": "7922b258-db0f-433a-8be7-fd1b4980bd37",
   "metadata": {},
   "outputs": [
    {
     "name": "stdout",
     "output_type": "stream",
     "text": [
      "Boron\n"
     ]
    }
   ],
   "source": [
    "print(elements[4])"
   ]
  },
  {
   "cell_type": "code",
   "execution_count": 22,
   "id": "e0d62494-e179-44a6-8fb2-f015b6899ab9",
   "metadata": {},
   "outputs": [
    {
     "name": "stdout",
     "output_type": "stream",
     "text": [
      "Boron\n"
     ]
    }
   ],
   "source": [
    "print(elements[-6])"
   ]
  },
  {
   "cell_type": "markdown",
   "id": "96c0a32e-b29f-49e9-a576-6617c7a622fb",
   "metadata": {},
   "source": [
    "### Exercise 4"
   ]
  },
  {
   "cell_type": "code",
   "execution_count": 27,
   "id": "1a4efff0-87f1-4dc0-998b-8a6fed3422e9",
   "metadata": {},
   "outputs": [],
   "source": [
    "import numpy as np"
   ]
  },
  {
   "cell_type": "code",
   "execution_count": 29,
   "id": "9efbd23a-8865-4008-a01d-c9e76ab28ea8",
   "metadata": {},
   "outputs": [],
   "source": [
    "numbers=[45, 60, 1, 30, 96, 1, 96, 57, 16, 1,\n",
    "        99, 62, 86, 43, 42, 60, 59, 1, 1, 35,\n",
    "        83, 47, 34, 28, 68, 23, 22, 92, 1, 79,\n",
    "        1, 29, 94, 72, 46, 47, 1, 74, 32, 20,\n",
    "        8, 37, 35, 1, 89, 29, 86, 19, 43, 61] "
   ]
  },
  {
   "cell_type": "code",
   "execution_count": 31,
   "id": "dfc5d192-3e06-48e5-b8b6-5fe6197837e1",
   "metadata": {},
   "outputs": [],
   "source": [
    "np_array = np.array(numbers)"
   ]
  },
  {
   "cell_type": "code",
   "execution_count": 37,
   "id": "5c9a2439-2109-4768-8e99-d81f4b86efe6",
   "metadata": {},
   "outputs": [],
   "source": [
    "mask = np_array == 1"
   ]
  },
  {
   "cell_type": "code",
   "execution_count": 39,
   "id": "23ef6af9-a953-403a-9588-a64f88307150",
   "metadata": {},
   "outputs": [
    {
     "data": {
      "text/plain": [
       "9"
      ]
     },
     "execution_count": 39,
     "metadata": {},
     "output_type": "execute_result"
    }
   ],
   "source": [
    "np.sum(mask)"
   ]
  },
  {
   "cell_type": "markdown",
   "id": "652f51eb-9159-438e-b3fd-a6fb612599b1",
   "metadata": {},
   "source": [
    "### Exercise 5"
   ]
  },
  {
   "cell_type": "code",
   "execution_count": 44,
   "id": "2718eda8-5cb7-430a-9adf-3521e22bbde9",
   "metadata": {},
   "outputs": [],
   "source": [
    "x_1 = [1, 4, 9, 16, 25, 36, 49, 64, 81, 100]\n",
    "x_2 = [1, 8, 27, 64, 125, 216, 343, 512, 729, 1000]"
   ]
  },
  {
   "cell_type": "code",
   "execution_count": 50,
   "id": "c7fa0066-5477-41be-8840-f089cd5d364b",
   "metadata": {},
   "outputs": [],
   "source": [
    "np_x_1 = np.array(x_1)\n",
    "np_x_2 = np.array(x_2)"
   ]
  },
  {
   "cell_type": "code",
   "execution_count": 68,
   "id": "5a71dec2-1d84-4b73-899c-a290a988c637",
   "metadata": {},
   "outputs": [],
   "source": [
    "mean_x_1 = np.mean(x_1)\n",
    "mean_x_2 = np.mean(x_2)"
   ]
  },
  {
   "cell_type": "code",
   "execution_count": 70,
   "id": "511e7ac1-0e2b-4507-9702-4c59962a0e2b",
   "metadata": {},
   "outputs": [],
   "source": [
    "sd_x_1 = np.std(x_1)\n",
    "sd_x_2 = np.std(x_2)"
   ]
  },
  {
   "cell_type": "code",
   "execution_count": 72,
   "id": "0d2242dc-0d5e-461e-b6fb-6b5dff684f1b",
   "metadata": {},
   "outputs": [
    {
     "name": "stdout",
     "output_type": "stream",
     "text": [
      "38.5\n",
      "302.5\n",
      "32.41990129534635\n",
      "326.0893282522444\n"
     ]
    }
   ],
   "source": [
    "print(mean_x_1)\n",
    "print(mean_x_2)\n",
    "print(sd_x_1)\n",
    "print(sd_x_2)"
   ]
  },
  {
   "cell_type": "code",
   "execution_count": 106,
   "id": "61b9d96b-0a57-4963-a795-d370b72e36ad",
   "metadata": {},
   "outputs": [],
   "source": [
    "covariance = np.sum((np_x_1 - mean_x_1) * (np_x_2 - mean_x_2)) / len(x_1)"
   ]
  },
  {
   "cell_type": "code",
   "execution_count": 108,
   "id": "6abf279c-5224-4696-8245-c56c1f9b5bbd",
   "metadata": {},
   "outputs": [],
   "source": [
    "pearson = covariance / (sd_x_1 * sd_x_2)"
   ]
  },
  {
   "cell_type": "code",
   "execution_count": 110,
   "id": "acfebc54-9df6-4aa1-ab5b-e3eb786e3547",
   "metadata": {},
   "outputs": [
    {
     "name": "stdout",
     "output_type": "stream",
     "text": [
      "0.9871796626270702\n"
     ]
    }
   ],
   "source": [
    "print(pearson)"
   ]
  },
  {
   "cell_type": "code",
   "execution_count": 112,
   "id": "55bf1551-9362-48ab-a041-17a54a048c4f",
   "metadata": {},
   "outputs": [
    {
     "data": {
      "text/plain": [
       "0.9871796626270701"
      ]
     },
     "execution_count": 112,
     "metadata": {},
     "output_type": "execute_result"
    }
   ],
   "source": [
    "np.corrcoef(np_x_1, np_x_2)[0,1]"
   ]
  },
  {
   "cell_type": "code",
   "execution_count": null,
   "id": "7c16f5dd-bd46-40cf-9aec-2fe707d3286f",
   "metadata": {},
   "outputs": [],
   "source": []
  },
  {
   "cell_type": "code",
   "execution_count": null,
   "id": "6c470dc2-e7be-46de-baaf-adb1f799e821",
   "metadata": {},
   "outputs": [],
   "source": []
  }
 ],
 "metadata": {
  "kernelspec": {
   "display_name": "Python [conda env:base] *",
   "language": "python",
   "name": "conda-base-py"
  },
  "language_info": {
   "codemirror_mode": {
    "name": "ipython",
    "version": 3
   },
   "file_extension": ".py",
   "mimetype": "text/x-python",
   "name": "python",
   "nbconvert_exporter": "python",
   "pygments_lexer": "ipython3",
   "version": "3.12.3"
  },
  "toc": {
   "base_numbering": 1,
   "nav_menu": {},
   "number_sections": true,
   "sideBar": true,
   "skip_h1_title": false,
   "title_cell": "Table of Contents",
   "title_sidebar": "Contents",
   "toc_cell": false,
   "toc_position": {},
   "toc_section_display": true,
   "toc_window_display": false
  },
  "vscode": {
   "interpreter": {
    "hash": "31f2aee4e71d21fbe5cf8b01ff0e069b9275f58929596ceb00d14d90e3e16cd6"
   }
  }
 },
 "nbformat": 4,
 "nbformat_minor": 5
}
