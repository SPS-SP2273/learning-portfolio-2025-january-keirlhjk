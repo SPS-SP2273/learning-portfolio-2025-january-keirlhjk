{
 "cells": [
  {
   "attachments": {},
   "cell_type": "markdown",
   "id": "123456",
   "metadata": {},
   "source": [
    "<div style=\"text-align:left;font-size:2em\"><span style=\"font-weight:bolder;font-size:1.25em\">SP2273 | Learning Portfolio</span><br><br><span style=\"font-weight:bold;color:darkred\">Storing Data (Good) Exercises</span></div>"
   ]
  },
  {
   "cell_type": "markdown",
   "id": "0cbfa290-ebaa-45f3-ab5f-6cc68b2fcaa4",
   "metadata": {},
   "source": [
    "### Exercise 1"
   ]
  },
  {
   "cell_type": "markdown",
   "id": "968e2dd0-1db1-455a-8f23-205f8dd06689",
   "metadata": {},
   "source": [
    "| # |    Term    | Brief Description                                                                                    |\n",
    "|:-:|:----------:|------------------------------------------------------------------------------------------------------|\n",
    "| 1 | Subsetting | Subsetting means to generally select data from a list or an array                                    |\n",
    "| 2 | Indexing   | Indexing means selecting one element from a list or an array based on their position in the data set |\n",
    "| 3 | Slicing    | To select a range of elements                                                                        |\n",
    "| 4 | Masking    | A form of subsetting. _Only works with NumPy arrays._                                                |"
   ]
  },
  {
   "cell_type": "markdown",
   "id": "1c7bfce9-7289-4f67-90a1-705c767b1e7a",
   "metadata": {},
   "source": [
    "### Exercise 2"
   ]
  },
  {
   "cell_type": "code",
   "execution_count": 98,
   "id": "646a2b79-5d7c-4d5e-be2f-d6a2a0d89a54",
   "metadata": {},
   "outputs": [],
   "source": [
    "import numpy as np"
   ]
  },
  {
   "cell_type": "code",
   "execution_count": 100,
   "id": "c1506415-7bd1-4b6a-ac17-91e89c846ab0",
   "metadata": {},
   "outputs": [],
   "source": [
    "np_array_2d = np.array([[1, \"A\"], [3, \"C\"], [2, \"B\"], [4, \"D\"],\n",
    "                        [5, \"E\"], [7, \"G\"], [6, \"F\"], [8, \"H\"],\n",
    "                        [10, \"J\"], [9, \"I\"]])"
   ]
  },
  {
   "cell_type": "code",
   "execution_count": 102,
   "id": "42c8e659-eeeb-4f50-8454-e440abc1a7c7",
   "metadata": {},
   "outputs": [
    {
     "data": {
      "text/plain": [
       "array([ 1,  3,  2,  4,  5,  7,  6,  8, 10,  9])"
      ]
     },
     "execution_count": 102,
     "metadata": {},
     "output_type": "execute_result"
    }
   ],
   "source": [
    "np_array_2d[:,0].astype(int)"
   ]
  },
  {
   "cell_type": "code",
   "execution_count": 104,
   "id": "031169da-16cf-480d-ae3b-35ce9094ef0d",
   "metadata": {},
   "outputs": [],
   "source": [
    "np_array2d1 = np_array_2d[:,0].astype(int)"
   ]
  },
  {
   "cell_type": "code",
   "execution_count": 106,
   "id": "b42ad8fc-43f2-4ec5-9862-b74251eec6b1",
   "metadata": {},
   "outputs": [
    {
     "data": {
      "text/plain": [
       "array([1, 1, 0, 0, 1, 1, 0, 0, 0, 1], dtype=int32)"
      ]
     },
     "execution_count": 106,
     "metadata": {},
     "output_type": "execute_result"
    }
   ],
   "source": [
    "np_array2d1 % 2"
   ]
  },
  {
   "cell_type": "code",
   "execution_count": 108,
   "id": "37a95d8e-9d37-4aac-a2bf-d596a729819e",
   "metadata": {},
   "outputs": [
    {
     "data": {
      "text/plain": [
       "array([ True,  True, False, False,  True,  True, False, False, False,\n",
       "        True])"
      ]
     },
     "execution_count": 108,
     "metadata": {},
     "output_type": "execute_result"
    }
   ],
   "source": [
    "np_array2d1 % 2 == 1"
   ]
  },
  {
   "cell_type": "code",
   "execution_count": 110,
   "id": "3723fd51-1a83-413c-bde4-c84aeeed9416",
   "metadata": {},
   "outputs": [],
   "source": [
    "my_mask = (np_array2d1 % 2 == 1) == True"
   ]
  },
  {
   "cell_type": "code",
   "execution_count": 114,
   "id": "1cb94cef-f935-4c4f-ae56-f52faf98c508",
   "metadata": {},
   "outputs": [
    {
     "data": {
      "text/plain": [
       "array(['A', 'C', 'E', 'G', 'I'], dtype='<U11')"
      ]
     },
     "execution_count": 114,
     "metadata": {},
     "output_type": "execute_result"
    }
   ],
   "source": [
    "np_array_2d[my_mask,1]"
   ]
  },
  {
   "cell_type": "markdown",
   "id": "4c8f21c3-d902-4089-9306-a429c7613421",
   "metadata": {},
   "source": [
    "### Exercise 3"
   ]
  },
  {
   "cell_type": "code",
   "execution_count": 161,
   "id": "8824c2ff-5141-4e4c-8c32-f723363ab88c",
   "metadata": {},
   "outputs": [],
   "source": [
    "py_list = [[66, 50, 57, -1, -1],\n",
    "           [92, -1, 88, -1, -1],\n",
    "           [75, -1, -1, 76, -1],\n",
    "           [-1, 51, 87, -1, -1],\n",
    "           [71, -1, 67, -1, 69]]"
   ]
  },
  {
   "cell_type": "code",
   "execution_count": 163,
   "id": "3cdb0201-6ac5-4b4e-97d7-dd21aee42065",
   "metadata": {},
   "outputs": [],
   "source": [
    "np_array = np.array(py_list)"
   ]
  },
  {
   "cell_type": "code",
   "execution_count": 165,
   "id": "d6b10da3-6d98-4ca8-bb16-8939e0b9e333",
   "metadata": {},
   "outputs": [],
   "source": [
    "my_mask_1 = np_array < 50\n",
    "my_mask_2 = np_array > 50\n",
    "my_mask_3 = np_array == 50"
   ]
  },
  {
   "cell_type": "code",
   "execution_count": 167,
   "id": "608f83a6-82a0-41d8-b3ec-0714f85cc693",
   "metadata": {},
   "outputs": [],
   "source": [
    "np_array[my_mask_1] = -1\n",
    "np_array[my_mask_2] = 1\n",
    "np_array[my_mask_3] = 0"
   ]
  },
  {
   "cell_type": "code",
   "execution_count": 170,
   "id": "70d34ea9-5c74-4a41-b12f-33ff08183cc0",
   "metadata": {},
   "outputs": [
    {
     "name": "stdout",
     "output_type": "stream",
     "text": [
      "[[ 1  0  1 -1 -1]\n",
      " [ 1 -1  1 -1 -1]\n",
      " [ 1 -1 -1  1 -1]\n",
      " [-1  1  1 -1 -1]\n",
      " [ 1 -1  1 -1  1]]\n"
     ]
    }
   ],
   "source": [
    "print(np_array)"
   ]
  }
 ],
 "metadata": {
  "kernelspec": {
   "display_name": "Python [conda env:base] *",
   "language": "python",
   "name": "conda-base-py"
  },
  "language_info": {
   "codemirror_mode": {
    "name": "ipython",
    "version": 3
   },
   "file_extension": ".py",
   "mimetype": "text/x-python",
   "name": "python",
   "nbconvert_exporter": "python",
   "pygments_lexer": "ipython3",
   "version": "3.12.3"
  },
  "toc": {
   "base_numbering": 1,
   "nav_menu": {},
   "number_sections": true,
   "sideBar": true,
   "skip_h1_title": false,
   "title_cell": "Table of Contents",
   "title_sidebar": "Contents",
   "toc_cell": false,
   "toc_position": {},
   "toc_section_display": true,
   "toc_window_display": false
  },
  "vscode": {
   "interpreter": {
    "hash": "31f2aee4e71d21fbe5cf8b01ff0e069b9275f58929596ceb00d14d90e3e16cd6"
   }
  }
 },
 "nbformat": 4,
 "nbformat_minor": 5
}
