{
 "cells": [
  {
   "attachments": {},
   "cell_type": "markdown",
   "id": "123456",
   "metadata": {},
   "source": [
    "<div style=\"text-align:left;font-size:2em\"><span style=\"font-weight:bolder;font-size:1.25em\">SP2273 | Learning Portfolio</span><br><br><span style=\"font-weight:bold;color:darkred\">Functions (Good) Exercises</span></div>"
   ]
  },
  {
   "cell_type": "markdown",
   "id": "b1218dd9-bdc3-4635-9c05-387169b1f762",
   "metadata": {},
   "source": [
    "### Exercise 1"
   ]
  },
  {
   "cell_type": "code",
   "execution_count": 2,
   "id": "599a7f68-cb16-4f10-97ca-b6be618abc48",
   "metadata": {},
   "outputs": [],
   "source": [
    "def convert_celsius(temperature_celsius, target_scale='Fahrenheit'):\n",
    "    if target_scale == 'Kelvin':\n",
    "        return temperature_celsius + 273.15\n",
    "    else:\n",
    "        return (temperature_celsius * 9/5) + 32"
   ]
  },
  {
   "cell_type": "code",
   "execution_count": 4,
   "id": "2101e8ed-993e-4daa-bd67-e4a95ef9081a",
   "metadata": {},
   "outputs": [
    {
     "name": "stdout",
     "output_type": "stream",
     "text": [
      "50.0\n"
     ]
    }
   ],
   "source": [
    "print(convert_celsius(10))"
   ]
  },
  {
   "cell_type": "code",
   "execution_count": 8,
   "id": "b89381e8-2312-458d-bec5-485d3e3f1e9f",
   "metadata": {},
   "outputs": [
    {
     "name": "stdout",
     "output_type": "stream",
     "text": [
      "283.15\n"
     ]
    }
   ],
   "source": [
    "print(convert_celsius(10, \"Kelvin\"))"
   ]
  },
  {
   "cell_type": "markdown",
   "id": "f9dc2fa4-70b4-46ef-b3a7-e816be12d5ae",
   "metadata": {},
   "source": [
    "### Exercise 2"
   ]
  },
  {
   "cell_type": "code",
   "execution_count": 17,
   "id": "7ebe41a0-95e0-4015-8843-f41fddf3f871",
   "metadata": {},
   "outputs": [],
   "source": [
    "def convert_fahrenheit(temperature_fahrenheit, target_scale='Celsius'):\n",
    "    if target_scale == 'Kelvin':\n",
    "        return ((temperature_fahrenheit - 32) * 5/9) + 273.25\n",
    "    else:\n",
    "        return (temperature_fahrenheit - 32) * 5/9"
   ]
  },
  {
   "cell_type": "code",
   "execution_count": 19,
   "id": "3c688986-59b8-4632-bdde-b12b8e0a64d8",
   "metadata": {},
   "outputs": [
    {
     "name": "stdout",
     "output_type": "stream",
     "text": [
      "-12.222222222222221\n"
     ]
    }
   ],
   "source": [
    "print(convert_fahrenheit(10))"
   ]
  },
  {
   "cell_type": "code",
   "execution_count": 21,
   "id": "ffb95205-ac97-4fc4-a816-1aab003607a0",
   "metadata": {},
   "outputs": [
    {
     "name": "stdout",
     "output_type": "stream",
     "text": [
      "261.02777777777777\n"
     ]
    }
   ],
   "source": [
    "print(convert_fahrenheit(10, \"Kelvin\"))"
   ]
  },
  {
   "cell_type": "markdown",
   "id": "9a351e1a-9fb0-482e-a5ab-a84a09bdec67",
   "metadata": {},
   "source": [
    "### Exercise 3"
   ]
  },
  {
   "cell_type": "code",
   "execution_count": 92,
   "id": "9f39be38-2898-4ac4-bb2b-d2397f0fd56b",
   "metadata": {},
   "outputs": [],
   "source": [
    "def convert_kelvin(temperature_kelvin, target_scale='Celsius'):\n",
    "    if target_scale == 'Fahrenheit':\n",
    "        return (1.8 * (temperature_kelvin - 273.15)) + 32\n",
    "    else:\n",
    "        return temperature_kelvin - 273.15\n",
    "        \n",
    "def convert_temperature(temperature, source_scale, target_scale):\n",
    "    if source_scale == target_scale:\n",
    "        return temperature\n",
    "    if source_scale == 'Celsius':\n",
    "        return convert_celsius(temperature, target_scale)\n",
    "    if source_scale == 'Fahrenheit':\n",
    "        return convert_fahrenheit(temperature, target_scale)\n",
    "    if source_scale == 'Kelvin':\n",
    "        return convert_kelvin(temperature, target_scale)\n",
    "    if source_scale == target_scale:\n",
    "        return source_scale\n",
    "    "
   ]
  },
  {
   "cell_type": "code",
   "execution_count": 94,
   "id": "2cf1c746-1362-41e2-b57d-22c7d7ccfe6f",
   "metadata": {},
   "outputs": [
    {
     "data": {
      "text/plain": [
       "10"
      ]
     },
     "execution_count": 94,
     "metadata": {},
     "output_type": "execute_result"
    }
   ],
   "source": [
    "convert_temperature(10, 'Kelvin', 'Kelvin')"
   ]
  },
  {
   "cell_type": "code",
   "execution_count": null,
   "id": "14513b2e-57bf-4400-a796-d4ef0c45afa6",
   "metadata": {},
   "outputs": [],
   "source": []
  },
  {
   "cell_type": "code",
   "execution_count": null,
   "id": "6279294b-87b9-491e-8d38-8ba054c1163f",
   "metadata": {},
   "outputs": [],
   "source": []
  },
  {
   "cell_type": "code",
   "execution_count": null,
   "id": "18102d1b-5ce9-4f8f-91ff-7a6682832e9a",
   "metadata": {},
   "outputs": [],
   "source": []
  }
 ],
 "metadata": {
  "kernelspec": {
   "display_name": "Python [conda env:base] *",
   "language": "python",
   "name": "conda-base-py"
  },
  "language_info": {
   "codemirror_mode": {
    "name": "ipython",
    "version": 3
   },
   "file_extension": ".py",
   "mimetype": "text/x-python",
   "name": "python",
   "nbconvert_exporter": "python",
   "pygments_lexer": "ipython3",
   "version": "3.12.3"
  },
  "toc": {
   "base_numbering": 1,
   "nav_menu": {},
   "number_sections": true,
   "sideBar": true,
   "skip_h1_title": false,
   "title_cell": "Table of Contents",
   "title_sidebar": "Contents",
   "toc_cell": false,
   "toc_position": {},
   "toc_section_display": true,
   "toc_window_display": false
  },
  "vscode": {
   "interpreter": {
    "hash": "31f2aee4e71d21fbe5cf8b01ff0e069b9275f58929596ceb00d14d90e3e16cd6"
   }
  }
 },
 "nbformat": 4,
 "nbformat_minor": 5
}
