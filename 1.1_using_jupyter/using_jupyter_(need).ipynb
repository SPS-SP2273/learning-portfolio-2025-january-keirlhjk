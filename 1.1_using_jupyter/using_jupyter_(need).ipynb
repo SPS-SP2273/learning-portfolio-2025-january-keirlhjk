{
 "cells": [
  {
   "attachments": {},
   "cell_type": "markdown",
   "id": "123456",
   "metadata": {},
   "source": [
    "<div style=\"text-align:left;font-size:2em\"><span style=\"font-weight:bolder;font-size:1.25em\">SP2273 | Learning Portfolio</span><br><br><span style=\"font-weight:bold;color:darkred\">Using Jupyter (Need)</span></div>"
   ]
  },
  {
   "attachments": {},
   "cell_type": "markdown",
   "id": "5e595953",
   "metadata": {},
   "source": [
    "# What to expect in this chapter"
   ]
  },
  {
   "cell_type": "markdown",
   "id": "c6a02ff5-c2fe-48f5-8307-333dcde532cb",
   "metadata": {},
   "source": [
    "```bash\n",
    "print('Hello World')\n",
    "```"
   ]
  },
  {
   "cell_type": "markdown",
   "id": "e913808b-99b1-450b-aa45-7bf9d5c35477",
   "metadata": {},
   "source": [
    "This is a link to [SP2273 Website](https://sps.nus.edu.sg/sp2273)"
   ]
  },
  {
   "cell_type": "markdown",
   "id": "3ddac053-94b0-4465-adc1-ba1feb6d1d68",
   "metadata": {},
   "source": [
    "|A|B|C|\n",
    "|--|--|--|"
   ]
  },
  {
   "cell_type": "markdown",
   "id": "abb41aea-fec5-4f2a-acc4-a0b073366769",
   "metadata": {},
   "source": [
    "# Lists"
   ]
  },
  {
   "cell_type": "markdown",
   "id": "574a8b1a-073d-4b72-a56c-9a42a41d3bf1",
   "metadata": {},
   "source": [
    "- keir\n",
    "- keir\n",
    "- keir"
   ]
  },
  {
   "cell_type": "markdown",
   "id": "218ebddb-5bd6-4daf-99e3-f62e331fff8d",
   "metadata": {},
   "source": [
    "$$\\int f(x) dx$$"
   ]
  },
  {
   "cell_type": "markdown",
   "id": "7be1cbaf-b5ce-45c9-97cd-31f63d0160a0",
   "metadata": {},
   "source": [
    "This is an incline math example $\\sqrt{b^2-4ac}$"
   ]
  },
  {
   "cell_type": "markdown",
   "id": "0e78334d-c3d0-43e8-9214-4480bb6ae1cf",
   "metadata": {},
   "source": [
    "This is an incline math example $$\\sqrt{b^2-4ac}$$"
   ]
  },
  {
   "attachments": {},
   "cell_type": "markdown",
   "id": "bbaf2c41",
   "metadata": {},
   "source": [
    "# 1 Getting ready"
   ]
  },
  {
   "attachments": {},
   "cell_type": "markdown",
   "id": "39e26ece",
   "metadata": {},
   "source": [
    "# 2 Getting started with Jupyter"
   ]
  },
  {
   "attachments": {},
   "cell_type": "markdown",
   "id": "6e84e8f5",
   "metadata": {},
   "source": [
    "## 2.1 It is all about running cells"
   ]
  },
  {
   "attachments": {},
   "cell_type": "markdown",
   "id": "135dc8f7",
   "metadata": {},
   "source": [
    "## 2.2 A traditional start"
   ]
  },
  {
   "attachments": {},
   "cell_type": "markdown",
   "id": "f22ce347",
   "metadata": {},
   "source": [
    "# 3 All about Markdown"
   ]
  },
  {
   "attachments": {},
   "cell_type": "markdown",
   "id": "a402c94c",
   "metadata": {},
   "source": [
    "## 3.1 Rendering Markdown cells"
   ]
  },
  {
   "attachments": {},
   "cell_type": "markdown",
   "id": "dc62827d",
   "metadata": {},
   "source": [
    "## 3.2 Some basic syntax"
   ]
  },
  {
   "attachments": {},
   "cell_type": "markdown",
   "id": "734e5799",
   "metadata": {},
   "source": [
    "## 3.3 Headings"
   ]
  },
  {
   "attachments": {},
   "cell_type": "markdown",
   "id": "4b828f58",
   "metadata": {},
   "source": [
    "## 3.4 Displaying Code"
   ]
  },
  {
   "attachments": {},
   "cell_type": "markdown",
   "id": "4f13cf70",
   "metadata": {},
   "source": [
    "## 3.5 Links"
   ]
  },
  {
   "attachments": {},
   "cell_type": "markdown",
   "id": "74ae474d",
   "metadata": {},
   "source": [
    "## 3.6 Images"
   ]
  },
  {
   "attachments": {},
   "cell_type": "markdown",
   "id": "2bab5299",
   "metadata": {},
   "source": [
    "## 3.7 Tables"
   ]
  },
  {
   "attachments": {},
   "cell_type": "markdown",
   "id": "31590a8b",
   "metadata": {},
   "source": [
    "## 3.8 Lists"
   ]
  },
  {
   "attachments": {},
   "cell_type": "markdown",
   "id": "1dbd84a5",
   "metadata": {},
   "source": [
    "## 3.9 Equations"
   ]
  },
  {
   "attachments": {},
   "cell_type": "markdown",
   "id": "293308aa",
   "metadata": {},
   "source": [
    "## Footnotes"
   ]
  }
 ],
 "metadata": {
  "kernelspec": {
   "display_name": "Python [conda env:base] *",
   "language": "python",
   "name": "conda-base-py"
  },
  "language_info": {
   "codemirror_mode": {
    "name": "ipython",
    "version": 3
   },
   "file_extension": ".py",
   "mimetype": "text/x-python",
   "name": "python",
   "nbconvert_exporter": "python",
   "pygments_lexer": "ipython3",
   "version": "3.12.3"
  },
  "toc": {
   "base_numbering": 1,
   "nav_menu": {},
   "number_sections": true,
   "sideBar": true,
   "skip_h1_title": false,
   "title_cell": "Table of Contents",
   "title_sidebar": "Contents",
   "toc_cell": false,
   "toc_position": {},
   "toc_section_display": true,
   "toc_window_display": false
  },
  "vscode": {
   "interpreter": {
    "hash": "31f2aee4e71d21fbe5cf8b01ff0e069b9275f58929596ceb00d14d90e3e16cd6"
   }
  }
 },
 "nbformat": 4,
 "nbformat_minor": 5
}
