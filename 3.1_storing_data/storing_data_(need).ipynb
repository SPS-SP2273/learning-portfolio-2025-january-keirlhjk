{
 "cells": [
  {
   "attachments": {},
   "cell_type": "markdown",
   "id": "123456",
   "metadata": {},
   "source": [
    "<div style=\"text-align:left;font-size:2em\"><span style=\"font-weight:bolder;font-size:1.25em\">SP2273 | Learning Portfolio</span><br><br><span style=\"font-weight:bold;color:darkred\">Storing Data (Need)</span></div>"
   ]
  },
  {
   "cell_type": "code",
   "execution_count": 7,
   "id": "a7847ec3-03b2-4c96-b1d1-ca1f57ef7b2c",
   "metadata": {},
   "outputs": [],
   "source": [
    "import numpy as np"
   ]
  },
  {
   "cell_type": "code",
   "execution_count": null,
   "id": "2469927a-52b7-4402-aa03-bb41ea890266",
   "metadata": {},
   "outputs": [],
   "source": [
    "list = [1,2,3,4,5] # Never use list as a variable. It is a python keywor (e.g. print, for list)"
   ]
  },
  {
   "cell_type": "code",
   "execution_count": 3,
   "id": "88b34498-88a0-4350-9dcb-bcc05a5d0f38",
   "metadata": {},
   "outputs": [],
   "source": [
    "py_list=[1,2,3,4,5]"
   ]
  },
  {
   "cell_type": "code",
   "execution_count": 13,
   "id": "5e4f9def-7b9d-4ca5-86d0-6629b764e051",
   "metadata": {},
   "outputs": [
    {
     "data": {
      "text/plain": [
       "[1, 2, 3, 4, 5]"
      ]
     },
     "execution_count": 13,
     "metadata": {},
     "output_type": "execute_result"
    }
   ],
   "source": [
    "py_list # used to grow data"
   ]
  },
  {
   "cell_type": "code",
   "execution_count": 9,
   "id": "398dde23-539d-4088-b4e3-15a70cb27b07",
   "metadata": {},
   "outputs": [],
   "source": [
    "np_array = np.array([1,2,3,4,5])"
   ]
  },
  {
   "cell_type": "code",
   "execution_count": 11,
   "id": "820688cf-8c77-479f-a957-50d6670fd4ff",
   "metadata": {},
   "outputs": [
    {
     "data": {
      "text/plain": [
       "array([1, 2, 3, 4, 5])"
      ]
     },
     "execution_count": 11,
     "metadata": {},
     "output_type": "execute_result"
    }
   ],
   "source": [
    "np_array # used for mathematcial scientific stuff"
   ]
  },
  {
   "cell_type": "code",
   "execution_count": 15,
   "id": "1038017b-afe8-443d-9cc6-6b248ce399d0",
   "metadata": {},
   "outputs": [],
   "source": [
    "np_array = np.array(py_list)"
   ]
  },
  {
   "cell_type": "code",
   "execution_count": 17,
   "id": "1b80fb5c-2ffa-406b-b981-51c307b6772a",
   "metadata": {},
   "outputs": [
    {
     "data": {
      "text/plain": [
       "array([1, 2, 3, 4, 5])"
      ]
     },
     "execution_count": 17,
     "metadata": {},
     "output_type": "execute_result"
    }
   ],
   "source": [
    "np_array"
   ]
  },
  {
   "cell_type": "markdown",
   "id": "40c3ff90-c390-4dff-b65d-5335d7a23746",
   "metadata": {},
   "source": [
    "### Things you can do or not"
   ]
  },
  {
   "cell_type": "code",
   "execution_count": 28,
   "id": "bead0626-1954-4379-8a4c-b7affce78904",
   "metadata": {},
   "outputs": [],
   "source": [
    "py_list = [1,2,3,4,5]\n",
    "np_array = np.array([1,2,3,4,5])"
   ]
  },
  {
   "cell_type": "code",
   "execution_count": 30,
   "id": "d0da842f-42ef-4a2a-939b-f4f5d9cd1078",
   "metadata": {},
   "outputs": [
    {
     "ename": "TypeError",
     "evalue": "can only concatenate list (not \"int\") to list",
     "output_type": "error",
     "traceback": [
      "\u001b[1;31m---------------------------------------------------------------------------\u001b[0m",
      "\u001b[1;31mTypeError\u001b[0m                                 Traceback (most recent call last)",
      "Cell \u001b[1;32mIn[30], line 1\u001b[0m\n\u001b[1;32m----> 1\u001b[0m py_list \u001b[38;5;241m+\u001b[39m \u001b[38;5;241m1\u001b[39m\n",
      "\u001b[1;31mTypeError\u001b[0m: can only concatenate list (not \"int\") to list"
     ]
    }
   ],
   "source": [
    "py_list + 1"
   ]
  },
  {
   "cell_type": "code",
   "execution_count": 36,
   "id": "3245c5ef-05bf-4858-9e48-4bf0ecb19c3c",
   "metadata": {},
   "outputs": [
    {
     "data": {
      "text/plain": [
       "[1, 2, 3, 4, 5, 1]"
      ]
     },
     "execution_count": 36,
     "metadata": {},
     "output_type": "execute_result"
    }
   ],
   "source": [
    "py_list + [1]"
   ]
  },
  {
   "cell_type": "code",
   "execution_count": 34,
   "id": "08e4357e-e791-43d0-a3c3-512e88eb1f0b",
   "metadata": {},
   "outputs": [
    {
     "data": {
      "text/plain": [
       "array([2, 3, 4, 5, 6])"
      ]
     },
     "execution_count": 34,
     "metadata": {},
     "output_type": "execute_result"
    }
   ],
   "source": [
    "np_array +1"
   ]
  },
  {
   "cell_type": "code",
   "execution_count": 38,
   "id": "cb973601-5476-41c0-9acf-c6715e8ad0e7",
   "metadata": {},
   "outputs": [
    {
     "data": {
      "text/plain": [
       "[1, 2, 3, 4, 5, 1, 2, 3, 4, 5]"
      ]
     },
     "execution_count": 38,
     "metadata": {},
     "output_type": "execute_result"
    }
   ],
   "source": [
    "py_list*2 # List works with the whole list"
   ]
  },
  {
   "cell_type": "code",
   "execution_count": 40,
   "id": "7784290c-d0ef-4886-8111-a524b0fe401a",
   "metadata": {},
   "outputs": [
    {
     "data": {
      "text/plain": [
       "array([ 2,  4,  6,  8, 10])"
      ]
     },
     "execution_count": 40,
     "metadata": {},
     "output_type": "execute_result"
    }
   ],
   "source": [
    "np_array*2 # Numpy works with each of the elements. Numpy useful for mathematical stuff"
   ]
  },
  {
   "cell_type": "code",
   "execution_count": 42,
   "id": "bf12b505-7034-4096-8279-6b4e19b6dfe8",
   "metadata": {},
   "outputs": [
    {
     "data": {
      "text/plain": [
       "5"
      ]
     },
     "execution_count": 42,
     "metadata": {},
     "output_type": "execute_result"
    }
   ],
   "source": [
    "len(py_list) # Tells you how big your list is"
   ]
  },
  {
   "cell_type": "code",
   "execution_count": 44,
   "id": "08086479-fe8c-4e01-982e-43260d84cb73",
   "metadata": {},
   "outputs": [
    {
     "data": {
      "text/plain": [
       "5"
      ]
     },
     "execution_count": 44,
     "metadata": {},
     "output_type": "execute_result"
    }
   ],
   "source": [
    "len (np_array)"
   ]
  },
  {
   "cell_type": "code",
   "execution_count": 48,
   "id": "ac8cd261-0c27-4c51-8bad-1beebe5b6858",
   "metadata": {},
   "outputs": [
    {
     "data": {
      "text/plain": [
       "5"
      ]
     },
     "execution_count": 48,
     "metadata": {},
     "output_type": "execute_result"
    }
   ],
   "source": [
    "np_array.size"
   ]
  },
  {
   "cell_type": "code",
   "execution_count": 50,
   "id": "35a81329-46b1-43d3-8344-8a2a80aa1a68",
   "metadata": {},
   "outputs": [
    {
     "data": {
      "text/plain": [
       "(5,)"
      ]
     },
     "execution_count": 50,
     "metadata": {},
     "output_type": "execute_result"
    }
   ],
   "source": [
    "np_array.shape"
   ]
  },
  {
   "cell_type": "code",
   "execution_count": 52,
   "id": "37a9088c-5b9a-46ca-b393-df9f1835de58",
   "metadata": {},
   "outputs": [
    {
     "data": {
      "text/plain": [
       "True"
      ]
     },
     "execution_count": 52,
     "metadata": {},
     "output_type": "execute_result"
    }
   ],
   "source": [
    "'a' in ['a','b','c']"
   ]
  },
  {
   "cell_type": "code",
   "execution_count": 54,
   "id": "4e1a6961-0f65-4e5d-bb2f-321cb3109c9a",
   "metadata": {},
   "outputs": [],
   "source": [
    "my_rand_numbers=np.random.randint(0,100,10)"
   ]
  },
  {
   "cell_type": "code",
   "execution_count": 58,
   "id": "6041ba8e-f1c8-4564-a7d2-1a3afcace792",
   "metadata": {},
   "outputs": [
    {
     "data": {
      "text/plain": [
       "array([28, 46, 83, 67, 70, 83, 13, 92,  4, 17])"
      ]
     },
     "execution_count": 58,
     "metadata": {},
     "output_type": "execute_result"
    }
   ],
   "source": [
    "my_rand_numbers"
   ]
  },
  {
   "cell_type": "code",
   "execution_count": 60,
   "id": "249a01ef-e704-4dd3-892d-03681287ea1c",
   "metadata": {},
   "outputs": [
    {
     "data": {
      "text/plain": [
       "array([ True,  True, False, False, False, False,  True, False,  True,\n",
       "        True])"
      ]
     },
     "execution_count": 60,
     "metadata": {},
     "output_type": "execute_result"
    }
   ],
   "source": [
    "my_rand_numbers < 50"
   ]
  },
  {
   "cell_type": "code",
   "execution_count": 62,
   "id": "00212a51-f3ce-4439-af8a-244395f05dc0",
   "metadata": {},
   "outputs": [],
   "source": [
    "mask = my_rand_numbers < 50"
   ]
  },
  {
   "cell_type": "code",
   "execution_count": 64,
   "id": "740743c2-82f5-4290-8e18-ac1e5db18b2f",
   "metadata": {},
   "outputs": [
    {
     "data": {
      "text/plain": [
       "array([28, 46, 13,  4, 17])"
      ]
     },
     "execution_count": 64,
     "metadata": {},
     "output_type": "execute_result"
    }
   ],
   "source": [
    "my_rand_numbers[mask]"
   ]
  },
  {
   "cell_type": "code",
   "execution_count": 70,
   "id": "31f1fd75-b4e9-4c64-9fad-6cdbee3447b5",
   "metadata": {},
   "outputs": [],
   "source": [
    "mask = (my_rand_numbers < 50) & (my_rand_numbers%2==0) # & can be used to combine condition. | means or. MASKING"
   ]
  },
  {
   "cell_type": "code",
   "execution_count": 68,
   "id": "3eac5a69-1c61-4be1-ad7e-ef0c179fdde7",
   "metadata": {},
   "outputs": [
    {
     "data": {
      "text/plain": [
       "array([28, 46,  4])"
      ]
     },
     "execution_count": 68,
     "metadata": {},
     "output_type": "execute_result"
    }
   ],
   "source": [
    "my_rand_numbers[mask]"
   ]
  },
  {
   "cell_type": "code",
   "execution_count": 72,
   "id": "9807deb5-e661-4a57-acb7-b49de56acabc",
   "metadata": {},
   "outputs": [
    {
     "data": {
      "text/plain": [
       "3.3333333333333335"
      ]
     },
     "execution_count": 72,
     "metadata": {},
     "output_type": "execute_result"
    }
   ],
   "source": [
    "10/3"
   ]
  },
  {
   "cell_type": "code",
   "execution_count": 74,
   "id": "69f15832-f7f1-4ccf-9d1a-2090b7485756",
   "metadata": {},
   "outputs": [
    {
     "data": {
      "text/plain": [
       "3"
      ]
     },
     "execution_count": 74,
     "metadata": {},
     "output_type": "execute_result"
    }
   ],
   "source": [
    "10//3"
   ]
  },
  {
   "cell_type": "code",
   "execution_count": 76,
   "id": "08f1cd51-e937-4818-b1ee-e5ba0ff3226f",
   "metadata": {},
   "outputs": [
    {
     "data": {
      "text/plain": [
       "1"
      ]
     },
     "execution_count": 76,
     "metadata": {},
     "output_type": "execute_result"
    }
   ],
   "source": [
    "10%3"
   ]
  },
  {
   "cell_type": "code",
   "execution_count": 78,
   "id": "de6532a8-31da-47c9-a90b-248f62079cde",
   "metadata": {},
   "outputs": [
    {
     "data": {
      "text/plain": [
       "array([28, 46, 83, 67, 70, 83, 13, 92,  4, 17])"
      ]
     },
     "execution_count": 78,
     "metadata": {},
     "output_type": "execute_result"
    }
   ],
   "source": [
    "my_rand_numbers"
   ]
  },
  {
   "cell_type": "code",
   "execution_count": 84,
   "id": "86631fbd-08eb-4b9c-8256-db374828341f",
   "metadata": {},
   "outputs": [
    {
     "data": {
      "text/plain": [
       "28"
      ]
     },
     "execution_count": 84,
     "metadata": {},
     "output_type": "execute_result"
    }
   ],
   "source": [
    "my_rand_numbers[0] # Python is 0 index. So first position is 0.\n",
    "                    # [] is indexing to extract a subset of the values. "
   ]
  },
  {
   "cell_type": "code",
   "execution_count": 86,
   "id": "188c3af9-eb83-4620-b27b-b94387690b68",
   "metadata": {},
   "outputs": [
    {
     "data": {
      "text/plain": [
       "17"
      ]
     },
     "execution_count": 86,
     "metadata": {},
     "output_type": "execute_result"
    }
   ],
   "source": [
    "my_rand_numbers[-1] # Applies to lists as well as arrays"
   ]
  },
  {
   "cell_type": "code",
   "execution_count": 88,
   "id": "1725fffc-fcc5-464e-b1d3-e59c5490f163",
   "metadata": {},
   "outputs": [],
   "source": [
    "py_2d_list = [[1,2,3],[4,5,6],[7,8,9]] # 2d list meaning that the list contains other lists"
   ]
  },
  {
   "cell_type": "code",
   "execution_count": 90,
   "id": "4a3bfbee-36a4-49cf-864f-fcd989680227",
   "metadata": {},
   "outputs": [
    {
     "data": {
      "text/plain": [
       "[1, 2, 3]"
      ]
     },
     "execution_count": 90,
     "metadata": {},
     "output_type": "execute_result"
    }
   ],
   "source": [
    "py_2d_list[0]"
   ]
  },
  {
   "cell_type": "code",
   "execution_count": 92,
   "id": "bc064ade-0fae-4d1e-afc7-e974b98d697e",
   "metadata": {},
   "outputs": [],
   "source": [
    "py_list_2d = [[1, \"A\"], [2, \"B\"], [3, \"C\"], [4, \"D\"],\n",
    "              [5, \"E\"], [6, \"F\"], [7, \"G\"], [8, \"H\"],\n",
    "              [9, \"I\"], [10, \"J\"]]\n",
    "\n",
    "np_array_2d = np.array(py_list_2d)      # Reusing the Python list \n",
    "                                        # to create a NEW\n",
    "                                        # NumPy array"
   ]
  },
  {
   "cell_type": "code",
   "execution_count": 94,
   "id": "7cb37513-1033-429c-818a-b99d207d1283",
   "metadata": {},
   "outputs": [
    {
     "data": {
      "text/plain": [
       "[[1, 'A'],\n",
       " [2, 'B'],\n",
       " [3, 'C'],\n",
       " [4, 'D'],\n",
       " [5, 'E'],\n",
       " [6, 'F'],\n",
       " [7, 'G'],\n",
       " [8, 'H'],\n",
       " [9, 'I'],\n",
       " [10, 'J']]"
      ]
     },
     "execution_count": 94,
     "metadata": {},
     "output_type": "execute_result"
    }
   ],
   "source": [
    "py_list_2d"
   ]
  },
  {
   "cell_type": "code",
   "execution_count": 96,
   "id": "9fd5a34c-7257-4be6-83e1-18c0d529722f",
   "metadata": {},
   "outputs": [
    {
     "data": {
      "text/plain": [
       "array([['1', 'A'],\n",
       "       ['2', 'B'],\n",
       "       ['3', 'C'],\n",
       "       ['4', 'D'],\n",
       "       ['5', 'E'],\n",
       "       ['6', 'F'],\n",
       "       ['7', 'G'],\n",
       "       ['8', 'H'],\n",
       "       ['9', 'I'],\n",
       "       ['10', 'J']], dtype='<U11')"
      ]
     },
     "execution_count": 96,
     "metadata": {},
     "output_type": "execute_result"
    }
   ],
   "source": [
    "np_array_2d # Numpy arrays dont tolerate different types (e.g. numbers, strings)"
   ]
  },
  {
   "cell_type": "code",
   "execution_count": 98,
   "id": "b14832eb-8ddf-4aee-bb9c-8a03beb575e6",
   "metadata": {},
   "outputs": [
    {
     "data": {
      "text/plain": [
       "[1, 'A']"
      ]
     },
     "execution_count": 98,
     "metadata": {},
     "output_type": "execute_result"
    }
   ],
   "source": [
    "py_list_2d[0]"
   ]
  },
  {
   "cell_type": "code",
   "execution_count": 100,
   "id": "a04f8978-b5e5-4039-bb79-9421584bd53c",
   "metadata": {},
   "outputs": [
    {
     "data": {
      "text/plain": [
       "'A'"
      ]
     },
     "execution_count": 100,
     "metadata": {},
     "output_type": "execute_result"
    }
   ],
   "source": [
    "py_list_2d[0][1]"
   ]
  },
  {
   "cell_type": "code",
   "execution_count": 102,
   "id": "90144d6c-6895-4892-ba6b-7cd1d32bdbea",
   "metadata": {},
   "outputs": [
    {
     "data": {
      "text/plain": [
       "'A'"
      ]
     },
     "execution_count": 102,
     "metadata": {},
     "output_type": "execute_result"
    }
   ],
   "source": [
    "np_array_2d[0,1]"
   ]
  },
  {
   "cell_type": "code",
   "execution_count": null,
   "id": "8e7ef774-ad06-4f19-b5d8-f37a88f549b3",
   "metadata": {},
   "outputs": [],
   "source": [
    "py_super_names = [\"Black Widow\", \"Iron Man\", \"Doctor Strange\"]\n",
    "py_real_names = [\"Natasha Romanoff\", \"Tony Stark\", \"Stephen Strange\"]\n",
    "\n",
    "np_super_names = np.array([\"Black Widow\", \"Iron Man\", \"Doctor Strange\"])\n",
    "np_real_names = np.array([\"Natasha Romanoff\", \"Tony Stark\", \"Stephen Strange\"])\n",
    "\n",
    "superhero_info = {\n",
    "    \"Natasha Romanoff\": \"Black Widow\",\n",
    "    \"Tony Stark\": \"Iron Man\",\n",
    "    \"Stephen Strange\": \"Doctor Strange\"\n",
    "}\n",
    "\n",
    "# Dictionary has a key and a value"
   ]
  },
  {
   "cell_type": "code",
   "execution_count": 108,
   "id": "90ea88be-0191-4f36-86e5-83de66979da8",
   "metadata": {},
   "outputs": [],
   "source": [
    "superhero_info = {\n",
    "    \"Natasha Romanoff\": [\"Black Widow\", \"Joannsson\"],\n",
    "    \"Tony Stark\": \"Iron Man\",\n",
    "    \"Stephen Strange\": \"Doctor Strange\"\n",
    "}"
   ]
  },
  {
   "cell_type": "code",
   "execution_count": 110,
   "id": "22292b3b-fff2-4272-84cb-0a0da31f0a09",
   "metadata": {},
   "outputs": [
    {
     "data": {
      "text/plain": [
       "['Black Widow', 'Joannsson']"
      ]
     },
     "execution_count": 110,
     "metadata": {},
     "output_type": "execute_result"
    }
   ],
   "source": [
    "superhero_info['Natasha Romanoff']"
   ]
  },
  {
   "cell_type": "code",
   "execution_count": null,
   "id": "b3b38e9b-ead3-4609-a91c-ba7d0d8383d3",
   "metadata": {},
   "outputs": [],
   "source": []
  },
  {
   "cell_type": "code",
   "execution_count": null,
   "id": "a860d8ac-35fc-4951-9f7c-bf1ce355124a",
   "metadata": {},
   "outputs": [],
   "source": []
  },
  {
   "cell_type": "code",
   "execution_count": null,
   "id": "93cd2d90-98c5-4d64-b8de-bb0d466445a6",
   "metadata": {},
   "outputs": [],
   "source": []
  },
  {
   "cell_type": "code",
   "execution_count": null,
   "id": "3994f256-f0ce-4673-9c6d-9a20a3bf3c81",
   "metadata": {},
   "outputs": [],
   "source": []
  },
  {
   "cell_type": "code",
   "execution_count": null,
   "id": "9b2d8cb5-e492-4cbd-9ae8-03adaaa1e1fd",
   "metadata": {},
   "outputs": [],
   "source": []
  },
  {
   "cell_type": "code",
   "execution_count": null,
   "id": "69d950b8-34df-41e4-b288-a323d4c075e2",
   "metadata": {},
   "outputs": [],
   "source": []
  },
  {
   "attachments": {},
   "cell_type": "markdown",
   "id": "53ea31b4",
   "metadata": {},
   "source": [
    "# What to expect in this chapter"
   ]
  },
  {
   "attachments": {},
   "cell_type": "markdown",
   "id": "69c99020",
   "metadata": {},
   "source": [
    "# 1 Lists, Arrays & Dictionaries"
   ]
  },
  {
   "attachments": {},
   "cell_type": "markdown",
   "id": "4f9d96d0",
   "metadata": {},
   "source": [
    "## 1.1 Let’s compare"
   ]
  },
  {
   "attachments": {},
   "cell_type": "markdown",
   "id": "da90feb9",
   "metadata": {},
   "source": [
    "## 1.2 Accessing data from a list (or array)"
   ]
  },
  {
   "attachments": {},
   "cell_type": "markdown",
   "id": "fb54d909",
   "metadata": {},
   "source": [
    "## 1.3 Accessing data from a dictionary"
   ]
  },
  {
   "attachments": {},
   "cell_type": "markdown",
   "id": "6a610a81",
   "metadata": {},
   "source": [
    "## 1.4 Higher dimensional lists"
   ]
  },
  {
   "attachments": {},
   "cell_type": "markdown",
   "id": "702d9e1e",
   "metadata": {},
   "source": [
    "# 2 Lists vs. Arrays"
   ]
  },
  {
   "attachments": {},
   "cell_type": "markdown",
   "id": "00ba1acd",
   "metadata": {},
   "source": [
    "## 2.1 Size"
   ]
  },
  {
   "attachments": {},
   "cell_type": "markdown",
   "id": "c8a8a304",
   "metadata": {},
   "source": [
    "## 2.2 Arrays are fussy about type"
   ]
  },
  {
   "attachments": {},
   "cell_type": "markdown",
   "id": "af684c78",
   "metadata": {},
   "source": [
    "## 2.3 Adding a number"
   ]
  },
  {
   "attachments": {},
   "cell_type": "markdown",
   "id": "0e5301c0",
   "metadata": {},
   "source": [
    "## 2.4 Adding another list"
   ]
  },
  {
   "attachments": {},
   "cell_type": "markdown",
   "id": "1c643b5a",
   "metadata": {},
   "source": [
    "## 2.5 Multiplying by a Number"
   ]
  },
  {
   "attachments": {},
   "cell_type": "markdown",
   "id": "656250e2",
   "metadata": {},
   "source": [
    "## 2.6 Squaring"
   ]
  },
  {
   "attachments": {},
   "cell_type": "markdown",
   "id": "0d948b15",
   "metadata": {},
   "source": [
    "## 2.7 Asking questions"
   ]
  },
  {
   "attachments": {},
   "cell_type": "markdown",
   "id": "07c709b3",
   "metadata": {},
   "source": [
    "## 2.8 Mathematics"
   ]
  },
  {
   "attachments": {},
   "cell_type": "markdown",
   "id": "fc0fb71d",
   "metadata": {},
   "source": [
    "## Footnotes"
   ]
  }
 ],
 "metadata": {
  "kernelspec": {
   "display_name": "Python [conda env:base] *",
   "language": "python",
   "name": "conda-base-py"
  },
  "language_info": {
   "codemirror_mode": {
    "name": "ipython",
    "version": 3
   },
   "file_extension": ".py",
   "mimetype": "text/x-python",
   "name": "python",
   "nbconvert_exporter": "python",
   "pygments_lexer": "ipython3",
   "version": "3.12.3"
  },
  "toc": {
   "base_numbering": 1,
   "nav_menu": {},
   "number_sections": true,
   "sideBar": true,
   "skip_h1_title": false,
   "title_cell": "Table of Contents",
   "title_sidebar": "Contents",
   "toc_cell": false,
   "toc_position": {},
   "toc_section_display": true,
   "toc_window_display": false
  },
  "vscode": {
   "interpreter": {
    "hash": "31f2aee4e71d21fbe5cf8b01ff0e069b9275f58929596ceb00d14d90e3e16cd6"
   }
  }
 },
 "nbformat": 4,
 "nbformat_minor": 5
}
