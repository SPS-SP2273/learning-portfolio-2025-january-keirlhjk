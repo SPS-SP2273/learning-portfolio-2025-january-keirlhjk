{
 "cells": [
  {
   "attachments": {},
   "cell_type": "markdown",
   "id": "123456",
   "metadata": {},
   "source": [
    "<div style=\"text-align:left;font-size:2em\"><span style=\"font-weight:bolder;font-size:1.25em\">SP2273 | Learning Portfolio</span><br><br><span style=\"font-weight:bold;color:darkred\">Storing Data (Good)</span></div>"
   ]
  },
  {
   "cell_type": "code",
   "execution_count": 4,
   "id": "f864c015-65c0-4d93-aeac-6c7653038240",
   "metadata": {},
   "outputs": [],
   "source": [
    "import numpy as np"
   ]
  },
  {
   "cell_type": "code",
   "execution_count": 6,
   "id": "dbd87754-70cd-4b27-98ac-e833b9a5f41c",
   "metadata": {},
   "outputs": [],
   "source": [
    "py_list=[\"a1\", \"b2\", \"c3\", \"d4\", \"e5\",\n",
    "         \"f6\", \"g7\", \"h8\", \"i9\", \"j10\"]\n",
    "np_array=np.array(py_list)\n",
    "\n",
    "# Pick one\n",
    "x = py_list  # OR\n",
    "x = np_array"
   ]
  },
  {
   "cell_type": "code",
   "execution_count": 8,
   "id": "751d73e3-0b93-4636-8707-4ebc21ff3dd1",
   "metadata": {},
   "outputs": [
    {
     "data": {
      "text/plain": [
       "['d4', 'e5', 'f6']"
      ]
     },
     "execution_count": 8,
     "metadata": {},
     "output_type": "execute_result"
    }
   ],
   "source": [
    "py_list[3:6] # Stops one less. (i.e. gives you 3 elements)"
   ]
  },
  {
   "cell_type": "code",
   "execution_count": 10,
   "id": "b80d3594-8f25-4c93-be64-3f01bacd4a36",
   "metadata": {},
   "outputs": [
    {
     "data": {
      "text/plain": [
       "['a1', 'c3', 'e5']"
      ]
     },
     "execution_count": 10,
     "metadata": {},
     "output_type": "execute_result"
    }
   ],
   "source": [
    "py_list[0:6:2] # Tries to give 6 elements but in steps of 2]"
   ]
  },
  {
   "cell_type": "code",
   "execution_count": 12,
   "id": "6f493cc8-5a0b-41d1-96eb-898b3b9a8e22",
   "metadata": {},
   "outputs": [
    {
     "data": {
      "text/plain": [
       "['j10', 'i9', 'h8', 'g7', 'f6', 'e5', 'd4', 'c3', 'b2', 'a1']"
      ]
     },
     "execution_count": 12,
     "metadata": {},
     "output_type": "execute_result"
    }
   ],
   "source": [
    "py_list[-1::-1] # Starts at the end, goes to the start, in steps of -1"
   ]
  },
  {
   "cell_type": "code",
   "execution_count": 22,
   "id": "3b9ea293-2957-4fd2-a5fc-4da6ec992423",
   "metadata": {},
   "outputs": [],
   "source": [
    "py_list_2d = [[1, \"A\"], [2, \"B\"], [3, \"C\"], [4, \"D\"],\n",
    "              [5, \"E\"], [6, \"F\"], [7, \"G\"], [8, \"H\"],\n",
    "              [9, \"I\"], [10, \"J\"]]\n",
    "\n",
    "np_array_2d = np.array(py_list_2d)"
   ]
  },
  {
   "cell_type": "code",
   "execution_count": 24,
   "id": "82aa161a-fc32-42c2-83f6-b360f9e8835a",
   "metadata": {},
   "outputs": [
    {
     "data": {
      "text/plain": [
       "[[2, 'B'], [3, 'C'], [4, 'D']]"
      ]
     },
     "execution_count": 24,
     "metadata": {},
     "output_type": "execute_result"
    }
   ],
   "source": [
    "py_list_2d[1:4]"
   ]
  },
  {
   "cell_type": "code",
   "execution_count": 26,
   "id": "764d1863-c168-49b4-af3e-f626a4eff0ea",
   "metadata": {},
   "outputs": [
    {
     "data": {
      "text/plain": [
       "array([['2', 'B'],\n",
       "       ['3', 'C'],\n",
       "       ['4', 'D']], dtype='<U11')"
      ]
     },
     "execution_count": 26,
     "metadata": {},
     "output_type": "execute_result"
    }
   ],
   "source": [
    "np_array_2d[1:4]"
   ]
  },
  {
   "cell_type": "code",
   "execution_count": 30,
   "id": "a2963b90-b0a8-435e-8296-91ca2d5f0202",
   "metadata": {},
   "outputs": [
    {
     "data": {
      "text/plain": [
       "array(['B', 'C', 'D'], dtype='<U11')"
      ]
     },
     "execution_count": 30,
     "metadata": {},
     "output_type": "execute_result"
    }
   ],
   "source": [
    "np_array_2d[1:4,1]"
   ]
  },
  {
   "cell_type": "code",
   "execution_count": 36,
   "id": "3cf6b695-e98f-402e-841a-3664a9901fc1",
   "metadata": {},
   "outputs": [
    {
     "data": {
      "text/plain": [
       "array([ 1,  2,  3,  4,  5,  6,  7,  8,  9, 10])"
      ]
     },
     "execution_count": 36,
     "metadata": {},
     "output_type": "execute_result"
    }
   ],
   "source": [
    "np_array_2d[:,0].astype(int) # To upgrade to int so that math can be done"
   ]
  },
  {
   "cell_type": "code",
   "execution_count": 38,
   "id": "a14513ef-3060-46e0-ae94-4382d59e2d13",
   "metadata": {},
   "outputs": [
    {
     "data": {
      "text/plain": [
       "array([   1,    8,   27,   64,  125,  216,  343,  512,  729, 1000],\n",
       "      dtype=int32)"
      ]
     },
     "execution_count": 38,
     "metadata": {},
     "output_type": "execute_result"
    }
   ],
   "source": [
    "np_array_2d[:,0].astype(int)**3"
   ]
  },
  {
   "cell_type": "markdown",
   "id": "6da9b98a-5960-4992-b9c5-012238682b27",
   "metadata": {},
   "source": [
    "### Growing to List"
   ]
  },
  {
   "cell_type": "code",
   "execution_count": 43,
   "id": "998a90a1-d3b6-4102-85a3-61f1f459ae01",
   "metadata": {},
   "outputs": [
    {
     "data": {
      "text/plain": [
       "[1, 2, 8, 9, 0, 'A', 'B']"
      ]
     },
     "execution_count": 43,
     "metadata": {},
     "output_type": "execute_result"
    }
   ],
   "source": [
    "[1,2] + [8,9,0] + ['A', 'B']"
   ]
  },
  {
   "cell_type": "code",
   "execution_count": 51,
   "id": "bdc12fc2-600b-4a37-8e7e-ce69da4aaccd",
   "metadata": {},
   "outputs": [
    {
     "data": {
      "text/plain": [
       "array([ 9, 11,  3])"
      ]
     },
     "execution_count": 51,
     "metadata": {},
     "output_type": "execute_result"
    }
   ],
   "source": [
    "np.array([1,2,3]) + np.array([8,9,0]) # Numpy array tries to do element wise operations (i.e. adds individul elemetns)"
   ]
  },
  {
   "cell_type": "code",
   "execution_count": null,
   "id": "df313a58-8d9f-4c12-8316-becd0982972a",
   "metadata": {},
   "outputs": [],
   "source": []
  },
  {
   "cell_type": "code",
   "execution_count": 53,
   "id": "9bb97262-8b4b-4e83-8c6a-3b67749c455c",
   "metadata": {},
   "outputs": [
    {
     "data": {
      "text/plain": [
       "[1, 2, 3, 4]"
      ]
     },
     "execution_count": 53,
     "metadata": {},
     "output_type": "execute_result"
    }
   ],
   "source": [
    "x=[1]\n",
    "x= x + [2]\n",
    "x= x + [3]\n",
    "x= x + [4]\n",
    "x"
   ]
  },
  {
   "cell_type": "code",
   "execution_count": 55,
   "id": "a53892c7-32f3-46b3-af6e-1d66641d02fd",
   "metadata": {},
   "outputs": [
    {
     "data": {
      "text/plain": [
       "[1, 2, 3, 4]"
      ]
     },
     "execution_count": 55,
     "metadata": {},
     "output_type": "execute_result"
    }
   ],
   "source": [
    "x=[1]\n",
    "x+= [2]\n",
    "x+= [3]\n",
    "x+= [4]\n",
    "x"
   ]
  },
  {
   "cell_type": "code",
   "execution_count": 59,
   "id": "faa1c4a3-1751-4e7c-9061-3cfcddc79581",
   "metadata": {},
   "outputs": [
    {
     "data": {
      "text/plain": [
       "[1, 2, 3, 4]"
      ]
     },
     "execution_count": 59,
     "metadata": {},
     "output_type": "execute_result"
    }
   ],
   "source": [
    "x=[1]\n",
    "x.append(2)\n",
    "x.append(3)\n",
    "x.append(4)\n",
    "x\n",
    "\n",
    "# Append runs about 1.5 times faster than the rest"
   ]
  },
  {
   "cell_type": "code",
   "execution_count": null,
   "id": "d276a3bb-9b7d-48fe-a25a-de798485d1bb",
   "metadata": {},
   "outputs": [],
   "source": []
  },
  {
   "cell_type": "code",
   "execution_count": 61,
   "id": "79b212ac-4778-4a89-9e4e-8604ef0b6fa6",
   "metadata": {},
   "outputs": [],
   "source": [
    "x=[1,2,3]"
   ]
  },
  {
   "cell_type": "code",
   "execution_count": 63,
   "id": "87685e85-aea7-434f-833a-7c9ae4d76cf6",
   "metadata": {},
   "outputs": [],
   "source": [
    "x[0]=1000"
   ]
  },
  {
   "cell_type": "code",
   "execution_count": 65,
   "id": "5a2db3a7-3767-4e51-bc85-88086a17fe91",
   "metadata": {},
   "outputs": [
    {
     "data": {
      "text/plain": [
       "[1000, 2, 3]"
      ]
     },
     "execution_count": 65,
     "metadata": {},
     "output_type": "execute_result"
    }
   ],
   "source": [
    "x"
   ]
  },
  {
   "cell_type": "code",
   "execution_count": 81,
   "id": "143d2c8d-e8b8-4ccd-b5e5-ef0b2a1a5b02",
   "metadata": {},
   "outputs": [],
   "source": [
    "y=(1,2,3) # Define Tupple. Tuples are similar to lists, except they use ( ) and cannot be changed after creation (i.e., they are immutable)."
   ]
  },
  {
   "cell_type": "code",
   "execution_count": 78,
   "id": "fd749a35-42c9-4c4f-9b70-4672d32a5796",
   "metadata": {},
   "outputs": [
    {
     "ename": "TypeError",
     "evalue": "'tuple' object does not support item assignment",
     "output_type": "error",
     "traceback": [
      "\u001b[1;31m---------------------------------------------------------------------------\u001b[0m",
      "\u001b[1;31mTypeError\u001b[0m                                 Traceback (most recent call last)",
      "Cell \u001b[1;32mIn[78], line 1\u001b[0m\n\u001b[1;32m----> 1\u001b[0m y[\u001b[38;5;241m0\u001b[39m]\u001b[38;5;241m=\u001b[39m\u001b[38;5;241m1000\u001b[39m\n",
      "\u001b[1;31mTypeError\u001b[0m: 'tuple' object does not support item assignment"
     ]
    }
   ],
   "source": [
    "y[0]=1000"
   ]
  },
  {
   "cell_type": "code",
   "execution_count": 89,
   "id": "20e97055-e86c-45ff-a37e-bff95f781661",
   "metadata": {},
   "outputs": [
    {
     "name": "stdout",
     "output_type": "stream",
     "text": [
      "Before: x=[1, 2, 3], y=[1, 2, 3], z=[1, 2, 3]\n",
      "After: x=[10000, 2, 3], y=[10000, 2, 3], z=[10000, 2, 3]\n"
     ]
    }
   ],
   "source": [
    "x=[1, 2, 3]\n",
    "y=x           # DON'T do this!\n",
    "z=x           # DON'T do this!\n",
    "print(f'Before: {x=}, {y=}, {z=}')\n",
    "x[0]=10000\n",
    "print(f'After: {x=}, {y=}, {z=}')\n",
    "# Design feature of python"
   ]
  },
  {
   "cell_type": "code",
   "execution_count": 93,
   "id": "2b341eb3-94be-43f2-939f-a5d5be4d511b",
   "metadata": {},
   "outputs": [
    {
     "name": "stdout",
     "output_type": "stream",
     "text": [
      "Before: x=[1, 2, 3], y=[1, 2, 3], z=[1, 2, 3]\n",
      "After: x=[10000, 2, 3], y=[1, 2, 3], z=[1, 2, 3]\n"
     ]
    }
   ],
   "source": [
    "x=[1, 2, 3]\n",
    "y=x.copy()           # do this!\n",
    "z=x.copy()           # do this!\n",
    "print(f'Before: {x=}, {y=}, {z=}')\n",
    "x[0]=10000\n",
    "print(f'After: {x=}, {y=}, {z=}')\n"
   ]
  },
  {
   "attachments": {},
   "cell_type": "markdown",
   "id": "32bc5398",
   "metadata": {},
   "source": [
    "# What to expect in this chapter"
   ]
  },
  {
   "attachments": {},
   "cell_type": "markdown",
   "id": "1b28ecb1",
   "metadata": {},
   "source": [
    "# 1 Subsetting: Indexing and Slicing"
   ]
  },
  {
   "attachments": {},
   "cell_type": "markdown",
   "id": "6a21e415",
   "metadata": {},
   "source": [
    "## 1.1 Lists & Arrays in 1D | Subsetting & Indexing"
   ]
  },
  {
   "attachments": {},
   "cell_type": "markdown",
   "id": "39877bab",
   "metadata": {},
   "source": [
    "## 1.2 Arrays only | Subsetting by masking"
   ]
  },
  {
   "attachments": {},
   "cell_type": "markdown",
   "id": "a5cab44a",
   "metadata": {},
   "source": [
    "## 1.3 Lists & Arrays in 2D | Indexing & Slicing"
   ]
  },
  {
   "attachments": {},
   "cell_type": "markdown",
   "id": "d23c8186",
   "metadata": {},
   "source": [
    "## 1.4 Growing lists"
   ]
  },
  {
   "attachments": {},
   "cell_type": "markdown",
   "id": "2283cc5b",
   "metadata": {},
   "source": [
    "# Some loose ends"
   ]
  },
  {
   "attachments": {},
   "cell_type": "markdown",
   "id": "ea10afbb",
   "metadata": {},
   "source": [
    "## 1.5 Tuples"
   ]
  },
  {
   "attachments": {},
   "cell_type": "markdown",
   "id": "68b516d4",
   "metadata": {},
   "source": [
    "## 1.6 Be VERY careful when copying"
   ]
  },
  {
   "attachments": {},
   "cell_type": "markdown",
   "id": "cbce3e4d",
   "metadata": {},
   "source": [
    "## Footnotes"
   ]
  }
 ],
 "metadata": {
  "kernelspec": {
   "display_name": "Python [conda env:base] *",
   "language": "python",
   "name": "conda-base-py"
  },
  "language_info": {
   "codemirror_mode": {
    "name": "ipython",
    "version": 3
   },
   "file_extension": ".py",
   "mimetype": "text/x-python",
   "name": "python",
   "nbconvert_exporter": "python",
   "pygments_lexer": "ipython3",
   "version": "3.12.3"
  },
  "toc": {
   "base_numbering": 1,
   "nav_menu": {},
   "number_sections": true,
   "sideBar": true,
   "skip_h1_title": false,
   "title_cell": "Table of Contents",
   "title_sidebar": "Contents",
   "toc_cell": false,
   "toc_position": {},
   "toc_section_display": true,
   "toc_window_display": false
  },
  "vscode": {
   "interpreter": {
    "hash": "31f2aee4e71d21fbe5cf8b01ff0e069b9275f58929596ceb00d14d90e3e16cd6"
   }
  }
 },
 "nbformat": 4,
 "nbformat_minor": 5
}
