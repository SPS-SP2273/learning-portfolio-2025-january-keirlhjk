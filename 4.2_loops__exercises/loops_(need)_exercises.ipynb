{
 "cells": [
  {
   "attachments": {},
   "cell_type": "markdown",
   "id": "123456",
   "metadata": {},
   "source": [
    "<div style=\"text-align:left;font-size:2em\"><span style=\"font-weight:bolder;font-size:1.25em\">SP2273 | Learning Portfolio</span><br><br><span style=\"font-weight:bold;color:darkred\">Loops (Need) Exercises</span></div>"
   ]
  },
  {
   "cell_type": "markdown",
   "id": "cae801a8-4ec6-4f91-80b6-e8e79547b9e3",
   "metadata": {},
   "source": [
    "### Exercise 1"
   ]
  },
  {
   "cell_type": "code",
   "execution_count": 5,
   "id": "bfa6978e-0a5c-4d19-a085-a911ed597f84",
   "metadata": {},
   "outputs": [],
   "source": [
    "temperatures_celsius = [\n",
    "    0, 5, 10, 15, 20, 25,\n",
    "    30, 35, 40, 45, 50\n",
    "]"
   ]
  },
  {
   "cell_type": "code",
   "execution_count": 7,
   "id": "3f6805ec-74cb-49e1-b1d2-809c28b249d2",
   "metadata": {},
   "outputs": [
    {
     "name": "stdout",
     "output_type": "stream",
     "text": [
      "0 = 32.0\n",
      "5 = 41.0\n",
      "10 = 50.0\n",
      "15 = 59.0\n",
      "20 = 68.0\n",
      "25 = 77.0\n",
      "30 = 86.0\n",
      "35 = 95.0\n",
      "40 = 104.0\n",
      "45 = 113.0\n",
      "50 = 122.0\n"
     ]
    }
   ],
   "source": [
    "for celsius in temperatures_celsius:\n",
    "    fahrenheit = (9/5 * celsius) + 32\n",
    "    print(f'{celsius} = {fahrenheit}')"
   ]
  },
  {
   "cell_type": "markdown",
   "id": "45d17684-a786-47a2-9ff8-fb7ba9710038",
   "metadata": {},
   "source": [
    "### Exercise 2"
   ]
  },
  {
   "cell_type": "code",
   "execution_count": 14,
   "id": "c45001b6-b6c5-406f-a96f-990056e45242",
   "metadata": {},
   "outputs": [
    {
     "name": "stdout",
     "output_type": "stream",
     "text": [
      "A1\tA2\tA3\t\n",
      "\n",
      "B1\tB2\tB3\t\n",
      "\n",
      "C1\tC2\tC3\t\n",
      "\n"
     ]
    }
   ],
   "source": [
    "for letter in ['A', 'B', 'C']:\n",
    "    for number in [1, 2, 3]:\n",
    "        print(f'{letter}{number}', end = '\\t') # ensure that output remains on the same line, separated by a tab\n",
    "    print('\\n') # moves on to the next line after inner loop is complete"
   ]
  },
  {
   "cell_type": "code",
   "execution_count": 16,
   "id": "2a636fc0-edd9-47ea-8872-b4437cec6631",
   "metadata": {},
   "outputs": [
    {
     "name": "stdout",
     "output_type": "stream",
     "text": [
      "1:\t1\t2\t3\t4\t5\t\n",
      "\n",
      "2:\t2\t4\t6\t8\t10\t\n",
      "\n",
      "3:\t3\t6\t9\t12\t15\t\n",
      "\n",
      "4:\t4\t8\t12\t16\t20\t\n",
      "\n",
      "5:\t5\t10\t15\t20\t25\t\n",
      "\n"
     ]
    }
   ],
   "source": [
    "for row in range(1, 6):\n",
    "    print(f'{row}:', end ='\\t')\n",
    "    for column in range (1,6):\n",
    "        print(f'{row * column}', end ='\\t')\n",
    "    print('\\n')"
   ]
  },
  {
   "cell_type": "markdown",
   "id": "7c1d6c3a-d3d3-40e9-836b-889e8cdbb048",
   "metadata": {},
   "source": [
    "### Exercise 3"
   ]
  },
  {
   "cell_type": "code",
   "execution_count": 21,
   "id": "855839bc-a8fb-4504-8aee-61f8b5ee6027",
   "metadata": {},
   "outputs": [],
   "source": [
    "import numpy as np"
   ]
  },
  {
   "cell_type": "code",
   "execution_count": 23,
   "id": "89d8ea1e-6f0b-4bb5-8f9f-f0a8d9bf2465",
   "metadata": {},
   "outputs": [
    {
     "data": {
      "text/plain": [
       "array([0.46211041, 0.72972433, 0.94059324, 0.67209053, 0.96536436,\n",
       "       0.3822831 , 0.80955289, 0.91377295, 0.59991546, 0.14016149])"
      ]
     },
     "execution_count": 23,
     "metadata": {},
     "output_type": "execute_result"
    }
   ],
   "source": [
    "np.random.rand(10)"
   ]
  },
  {
   "cell_type": "code",
   "execution_count": 27,
   "id": "e8b65c26-dea8-4bad-908e-81e2a82bcbaf",
   "metadata": {},
   "outputs": [
    {
     "name": "stdout",
     "output_type": "stream",
     "text": [
      "Experiment 1: No. of Heads = 4\n",
      "Experiment 2: No. of Heads = 4\n",
      "Experiment 3: No. of Heads = 6\n",
      "Experiment 4: No. of Heads = 5\n",
      "Experiment 5: No. of Heads = 7\n",
      "Experiment 6: No. of Heads = 5\n",
      "Experiment 7: No. of Heads = 3\n",
      "Experiment 8: No. of Heads = 1\n",
      "Experiment 9: No. of Heads = 2\n",
      "Experiment 10: No. of Heads = 5\n"
     ]
    }
   ],
   "source": [
    "for experiment in range (1,11):\n",
    "    flips = np.random.rand(10)\n",
    "    number_of_heads = np.sum(flips > 0.50)\n",
    "    print(f'Experiment {experiment}: No. of Heads = {number_of_heads}')"
   ]
  },
  {
   "cell_type": "code",
   "execution_count": null,
   "id": "a7be88cd-9d45-47f7-8aba-d9a2419ca041",
   "metadata": {},
   "outputs": [],
   "source": []
  }
 ],
 "metadata": {
  "kernelspec": {
   "display_name": "Python [conda env:base] *",
   "language": "python",
   "name": "conda-base-py"
  },
  "language_info": {
   "codemirror_mode": {
    "name": "ipython",
    "version": 3
   },
   "file_extension": ".py",
   "mimetype": "text/x-python",
   "name": "python",
   "nbconvert_exporter": "python",
   "pygments_lexer": "ipython3",
   "version": "3.12.3"
  },
  "toc": {
   "base_numbering": 1,
   "nav_menu": {},
   "number_sections": true,
   "sideBar": true,
   "skip_h1_title": false,
   "title_cell": "Table of Contents",
   "title_sidebar": "Contents",
   "toc_cell": false,
   "toc_position": {},
   "toc_section_display": true,
   "toc_window_display": false
  },
  "vscode": {
   "interpreter": {
    "hash": "31f2aee4e71d21fbe5cf8b01ff0e069b9275f58929596ceb00d14d90e3e16cd6"
   }
  }
 },
 "nbformat": 4,
 "nbformat_minor": 5
}
